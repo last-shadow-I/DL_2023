{
  "cells": [
    {
      "cell_type": "markdown",
      "metadata": {
        "id": "a26W8MhBhe5w"
      },
      "source": [
        "# Лабораторная работа 4"
      ]
    },
    {
      "cell_type": "markdown",
      "metadata": {
        "id": "xoqAaNFPhe5x"
      },
      "source": [
        "Tensorflow 2.x\n",
        "\n",
        "1) Подготовка данных\n",
        "\n",
        "2) Использование Keras Model API\n",
        "\n",
        "3) Использование Keras Sequential + Functional API"
      ]
    },
    {
      "cell_type": "markdown",
      "metadata": {
        "id": "_M9JTZBphe5y"
      },
      "source": [
        "https://www.tensorflow.org/tutorials"
      ]
    },
    {
      "cell_type": "markdown",
      "metadata": {
        "id": "rdlhIO_she5y"
      },
      "source": [
        "Для выполнения лабораторной работы необходимо установить tensorflow версии 2.0 или выше .\n",
        "\n",
        "Рекомендуется использовать возможности Colab'а по обучению моделей на GPU.\n",
        "\n"
      ]
    },
    {
      "cell_type": "code",
      "execution_count": null,
      "metadata": {
        "id": "Nm4v5xinhe5y"
      },
      "outputs": [],
      "source": [
        "import os\n",
        "import tensorflow as tf\n",
        "import numpy as np\n",
        "import math\n",
        "import timeit\n",
        "import matplotlib.pyplot as plt\n",
        "\n",
        "%matplotlib inline"
      ]
    },
    {
      "cell_type": "markdown",
      "metadata": {
        "id": "MEV5RM8She5y"
      },
      "source": [
        "# Подготовка данных\n",
        "Загрузите набор данных из предыдущей лабораторной работы."
      ]
    },
    {
      "cell_type": "code",
      "execution_count": null,
      "metadata": {
        "colab": {
          "base_uri": "https://localhost:8080/"
        },
        "id": "ZCeOKjZ_he5y",
        "outputId": "cad8c339-d2d5-4aaf-9436-9547e917c40f"
      },
      "outputs": [
        {
          "name": "stdout",
          "output_type": "stream",
          "text": [
            "Train data shape:  (49000, 28, 28, 1)\n",
            "Train labels shape:  (49000,) int32\n",
            "Validation data shape:  (1000, 28, 28, 1)\n",
            "Validation labels shape:  (1000,)\n",
            "Test data shape:  (10000, 28, 28, 1)\n",
            "Test labels shape:  (10000,)\n"
          ]
        }
      ],
      "source": [
        "def load_mnist(num_training=49000, num_validation=1000, num_test=10000):\n",
        "    \"\"\"\n",
        "    Fetch the CIFAR-10 dataset from the web and perform preprocessing to prepare\n",
        "    it for the two-layer neural net classifier. These are the same steps as\n",
        "    we used for the SVM, but condensed to a single function.\n",
        "    \"\"\"\n",
        "    # Load the raw CIFAR-10 dataset and use appropriate data types and shapes\n",
        "    mnist = tf.keras.datasets.mnist.load_data()\n",
        "    (X_train, y_train), (X_test, y_test) = mnist\n",
        "    X_train = np.asarray(X_train, dtype=np.float32)\n",
        "    y_train = np.asarray(y_train, dtype=np.int32).flatten()\n",
        "    X_test = np.asarray(X_test, dtype=np.float32)\n",
        "    y_test = np.asarray(y_test, dtype=np.int32).flatten()\n",
        "\n",
        "    # Subsample the data\n",
        "    mask = range(num_training, num_training + num_validation)\n",
        "    X_val = X_train[mask]\n",
        "    y_val = y_train[mask]\n",
        "    mask = range(num_training)\n",
        "    X_train = X_train[mask]\n",
        "    y_train = y_train[mask]\n",
        "    mask = range(num_test)\n",
        "    X_test = X_test[mask]\n",
        "    y_test = y_test[mask]\n",
        "\n",
        "    # Normalize the data: subtract the mean pixel and divide by std\n",
        "    mean_pixel = X_train.mean(axis=(0, 1, 2), keepdims=True)\n",
        "    std_pixel = X_train.std(axis=(0, 1, 2), keepdims=True)\n",
        "    X_train = (X_train - mean_pixel) / std_pixel\n",
        "    X_val = (X_val - mean_pixel) / std_pixel\n",
        "    X_test = (X_test - mean_pixel) / std_pixel\n",
        "\n",
        "    return X_train, y_train, X_val, y_val, X_test, y_test\n",
        "\n",
        "# If there are errors with SSL downloading involving self-signed certificates,\n",
        "# it may be that your Python version was recently installed on the current machine.\n",
        "# See: https://github.com/tensorflow/tensorflow/issues/10779\n",
        "# To fix, run the command: /Applications/Python\\ 3.7/Install\\ Certificates.command\n",
        "#   ...replacing paths as necessary.\n",
        "\n",
        "# Invoke the above function to get our data.\n",
        "NHW = (0, 1, 2)\n",
        "X_train, y_train, X_val, y_val, X_test, y_test = load_mnist()\n",
        "X_train = X_train.reshape(-1, 28, 28, 1)\n",
        "X_val = X_val.reshape(-1, 28, 28, 1)\n",
        "X_test = X_test.reshape(-1, 28, 28, 1)\n",
        "print('Train data shape: ', X_train.shape)\n",
        "print('Train labels shape: ', y_train.shape, y_train.dtype)\n",
        "print('Validation data shape: ', X_val.shape)\n",
        "print('Validation labels shape: ', y_val.shape)\n",
        "print('Test data shape: ', X_test.shape)\n",
        "print('Test labels shape: ', y_test.shape)"
      ]
    },
    {
      "cell_type": "code",
      "execution_count": null,
      "metadata": {
        "colab": {
          "base_uri": "https://localhost:8080/",
          "height": 94
        },
        "id": "Nn_-VQJCrf8k",
        "outputId": "e0f1cfa9-dc86-4b2d-ac54-a35f495ea1aa"
      },
      "outputs": [
        {
          "data": {
            "image/png": "[encoded data removed]",
            "text/plain": [
              "<Figure size 128x96 with 1 Axes>"
            ]
          },
          "metadata": {},
          "output_type": "display_data"
        }
      ],
      "source": [
        "import matplotlib.pyplot as plt\n",
        "plt.figure(dpi = 20)\n",
        "plt.imshow(X_train[28])\n",
        "plt.axis(\"off\")\n",
        "plt.show()"
      ]
    },
    {
      "cell_type": "code",
      "execution_count": null,
      "metadata": {
        "id": "fI-OBsVyhe5z"
      },
      "outputs": [],
      "source": [
        "class Dataset(object):\n",
        "    def __init__(self, X, y, batch_size, shuffle=False):\n",
        "        \"\"\"\n",
        "        Construct a Dataset object to iterate over data X and labels y\n",
        "\n",
        "        Inputs:\n",
        "        - X: Numpy array of data, of any shape\n",
        "        - y: Numpy array of labels, of any shape but with y.shape[0] == X.shape[0]\n",
        "        - batch_size: Integer giving number of elements per minibatch\n",
        "        - shuffle: (optional) Boolean, whether to shuffle the data on each epoch\n",
        "        \"\"\"\n",
        "        assert X.shape[0] == y.shape[0], 'Got different numbers of data and labels'\n",
        "        self.X, self.y = X, y\n",
        "        self.batch_size, self.shuffle = batch_size, shuffle\n",
        "\n",
        "    def __iter__(self):\n",
        "        N, B = self.X.shape[0], self.batch_size\n",
        "        idxs = np.arange(N)\n",
        "        if self.shuffle:\n",
        "            np.random.shuffle(idxs)\n",
        "        return iter((self.X[i:i+B], self.y[i:i+B]) for i in range(0, N, B))\n",
        "\n",
        "\n",
        "train_dset = Dataset(X_train, y_train, batch_size=64, shuffle=True)\n",
        "val_dset = Dataset(X_val, y_val, batch_size=64, shuffle=False)\n",
        "test_dset = Dataset(X_test, y_test, batch_size=64)"
      ]
    },
    {
      "cell_type": "code",
      "execution_count": null,
      "metadata": {
        "colab": {
          "base_uri": "https://localhost:8080/"
        },
        "id": "E3oIZptche5z",
        "outputId": "a760aff2-808f-48e1-aa3d-1752893553d5"
      },
      "outputs": [
        {
          "name": "stdout",
          "output_type": "stream",
          "text": [
            "0 (64, 28, 28, 1) (64,)\n",
            "1 (64, 28, 28, 1) (64,)\n",
            "2 (64, 28, 28, 1) (64,)\n",
            "3 (64, 28, 28, 1) (64,)\n",
            "4 (64, 28, 28, 1) (64,)\n",
            "5 (64, 28, 28, 1) (64,)\n",
            "6 (64, 28, 28, 1) (64,)\n"
          ]
        }
      ],
      "source": [
        "# We can iterate through a dataset like this:\n",
        "for t, (x, y) in enumerate(train_dset):\n",
        "    print(t, x.shape, y.shape)\n",
        "    if t > 5: break"
      ]
    },
    {
      "cell_type": "markdown",
      "metadata": {
        "id": "CU9fJ56Rhe50"
      },
      "source": [
        "#  Keras Model Subclassing API"
      ]
    },
    {
      "cell_type": "markdown",
      "metadata": {
        "id": "8OpqiWcphe50"
      },
      "source": [
        "\n",
        "Для реализации собственной модели с помощью Keras Model Subclassing API необходимо выполнить следующие шаги:\n",
        "\n",
        "1) Определить новый класс, который является наследником tf.keras.Model.\n",
        "\n",
        "2) В методе __init__() определить все необходимые слои из модуля tf.keras.layer\n",
        "\n",
        "3) Реализовать прямой проход в методе call() на основе слоев, объявленных в __init__()\n",
        "\n",
        "Ниже приведен пример использования keras API для определения двухслойной полносвязной сети.\n",
        "\n",
        "https://www.tensorflow.org/versions/r2.0/api_docs/python/tf/keras"
      ]
    },
    {
      "cell_type": "code",
      "execution_count": null,
      "metadata": {
        "colab": {
          "base_uri": "https://localhost:8080/"
        },
        "id": "K7J71vx8lWbw",
        "outputId": "5dc860aa-0277-4423-fd72-b82383e87505"
      },
      "outputs": [
        {
          "name": "stdout",
          "output_type": "stream",
          "text": [
            "Using device:  /device:GPU:0\n"
          ]
        }
      ],
      "source": [
        "# Для использования GPU \n",
        "USE_GPU = True\n",
        "\n",
        "if USE_GPU:\n",
        "    device = '/device:GPU:0'\n",
        "else:\n",
        "    device = '/cpu:0'\n",
        "\n",
        "print('Using device: ', device)"
      ]
    },
    {
      "cell_type": "code",
      "execution_count": null,
      "metadata": {
        "colab": {
          "base_uri": "https://localhost:8080/"
        },
        "id": "eM2pvV77he50",
        "outputId": "385de1a7-6fc4-4ab9-a445-cd0331e167c7"
      },
      "outputs": [
        {
          "name": "stdout",
          "output_type": "stream",
          "text": [
            "(64, 10)\n"
          ]
        }
      ],
      "source": [
        "class TwoLayerFC(tf.keras.Model):\n",
        "    def __init__(self, hidden_size, num_classes):\n",
        "        super(TwoLayerFC, self).__init__()\n",
        "        initializer = tf.initializers.VarianceScaling(scale=2.0)\n",
        "        self.fc1 = tf.keras.layers.Dense(hidden_size, activation='relu',\n",
        "                                   kernel_initializer=initializer)\n",
        "        self.fc2 = tf.keras.layers.Dense(num_classes, activation='softmax',\n",
        "                                   kernel_initializer=initializer)\n",
        "        self.flatten = tf.keras.layers.Flatten()\n",
        "\n",
        "    def call(self, x, training=False):\n",
        "        x = self.flatten(x)\n",
        "        x = self.fc1(x)\n",
        "        x = self.fc2(x)\n",
        "        return x\n",
        "\n",
        "\n",
        "def test_TwoLayerFC():\n",
        "    \"\"\" A small unit test to exercise the TwoLayerFC model above. \"\"\"\n",
        "    input_size, hidden_size, num_classes = 50, 42, 10\n",
        "    x = tf.zeros((64, input_size))\n",
        "    model = TwoLayerFC(hidden_size, num_classes)\n",
        "    with tf.device(device):\n",
        "        scores = model(x)\n",
        "        print(scores.shape)\n",
        "\n",
        "test_TwoLayerFC()"
      ]
    },
    {
      "cell_type": "markdown",
      "metadata": {
        "id": "B3Xu06Hthe50"
      },
      "source": [
        "Реализуйте трехслойную CNN для вашей задачи классификации.\n",
        "\n",
        "Архитектура сети:\n",
        "    \n",
        "1. Сверточный слой (5 x 5 kernels, zero-padding = 'same')\n",
        "2. Функция активации ReLU\n",
        "3. Сверточный слой (3 x 3 kernels, zero-padding = 'same')\n",
        "4. Функция активации ReLU\n",
        "5. Полносвязный слой\n",
        "6. Функция активации Softmax\n",
        "\n",
        "https://www.tensorflow.org/versions/r2.0/api_docs/python/tf/keras/layers/Conv2D\n",
        "\n",
        "https://www.tensorflow.org/versions/r2.0/api_docs/python/tf/keras/layers/Dense"
      ]
    },
    {
      "cell_type": "code",
      "execution_count": null,
      "metadata": {
        "id": "x2o3F_aehe50"
      },
      "outputs": [],
      "source": [
        "class ThreeLayerConvNet(tf.keras.Model):\n",
        "    def __init__(self, channel_1, channel_2, num_classes):\n",
        "        super(ThreeLayerConvNet, self).__init__()\n",
        "        ########################################################################\n",
        "        # TODO: Implement the __init__ method for a three-layer ConvNet. You   #\n",
        "        # should instantiate layer objects to be used in the forward pass.     #\n",
        "        ########################################################################\n",
        "        # *****START OF YOUR CODE (DO NOT DELETE/MODIFY THIS LINE)*****\n",
        "\n",
        "        # задаём как инициализируются веса\n",
        "        initializer = tf.initializers.VarianceScaling(scale=2.0)\n",
        "        self.flatten = tf.keras.layers.Flatten()\n",
        "        # первый сверточный слой и активационная функция relu\n",
        "        self.conv1 = tf.keras.layers.Conv2D(channel_1, [5,5], [1,1], padding='same',\n",
        "                                            kernel_initializer=initializer,\n",
        "                                            activation='relu')\n",
        "        # второй сверточный слой и активационная функция relu\n",
        "        self.conv2 = tf.keras.layers.Conv2D(channel_2, [3,3], [1,1], padding='same',\n",
        "                                            kernel_initializer=initializer,\n",
        "                                            activation='relu')\n",
        "        # полносвязный слой и активационная функция softmax\n",
        "        self.fc = tf.keras.layers.Dense(num_classes, activation='softmax', kernel_initializer=initializer)\n",
        "        \n",
        "\n",
        "        # *****END OF YOUR CODE (DO NOT DELETE/MODIFY THIS LINE)*****\n",
        "        ########################################################################\n",
        "        #                           END OF YOUR CODE                           #\n",
        "        ########################################################################\n",
        "\n",
        "    def call(self, x, training=False):\n",
        "        scores = None\n",
        "        ########################################################################\n",
        "        # TODO: Implement the forward pass for a three-layer ConvNet. You      #\n",
        "        # should use the layer objects defined in the __init__ method.         #\n",
        "        ########################################################################\n",
        "        # *****START OF YOUR CODE (DO NOT DELETE/MODIFY THIS LINE)*****\n",
        "        \n",
        "        # задаём их порядок при проходе по сети\n",
        "        x = self.conv1(x)\n",
        "        x = self.conv2(x)\n",
        "        x = self.flatten(x)\n",
        "        scores = self.fc(x)\n",
        "\n",
        "        # *****END OF YOUR CODE (DO NOT DELETE/MODIFY THIS LINE)*****\n",
        "        ########################################################################\n",
        "        #                           END OF YOUR CODE                           #\n",
        "        ########################################################################\n",
        "        return scores"
      ]
    },
    {
      "cell_type": "code",
      "execution_count": null,
      "metadata": {
        "colab": {
          "base_uri": "https://localhost:8080/"
        },
        "id": "LQ-NvO2Xhe50",
        "outputId": "699583da-3969-482f-8514-89ce9a3ba81b"
      },
      "outputs": [
        {
          "name": "stdout",
          "output_type": "stream",
          "text": [
            "(64, 10)\n"
          ]
        }
      ],
      "source": [
        "def test_ThreeLayerConvNet():\n",
        "    channel_1, channel_2, num_classes = 12, 8, 10\n",
        "    model = ThreeLayerConvNet(channel_1, channel_2, num_classes)\n",
        "    with tf.device(device):\n",
        "        x = tf.zeros((64, 3, 32, 32))\n",
        "        scores = model(x)\n",
        "        print(scores.shape)\n",
        "\n",
        "test_ThreeLayerConvNet()"
      ]
    },
    {
      "cell_type": "markdown",
      "metadata": {
        "id": "vLjZPBIBhe50"
      },
      "source": [
        "Пример реализации процесса обучения:"
      ]
    },
    {
      "cell_type": "code",
      "execution_count": null,
      "metadata": {
        "id": "5E99tRm0he50"
      },
      "outputs": [],
      "source": [
        "def train_part34(model_init_fn, optimizer_init_fn, num_epochs=1, is_training=False):\n",
        "    \"\"\"\n",
        "    Simple training loop for use with models defined using tf.keras. It trains\n",
        "    a model for one epoch on the CIFAR-10 training set and periodically checks\n",
        "    accuracy on the CIFAR-10 validation set.\n",
        "\n",
        "    Inputs:\n",
        "    - model_init_fn: A function that takes no parameters; when called it\n",
        "      constructs the model we want to train: model = model_init_fn()\n",
        "    - optimizer_init_fn: A function which takes no parameters; when called it\n",
        "      constructs the Optimizer object we will use to optimize the model:\n",
        "      optimizer = optimizer_init_fn()\n",
        "    - num_epochs: The number of epochs to train for\n",
        "\n",
        "    Returns: Nothing, but prints progress during trainingn\n",
        "    \"\"\"\n",
        "    with tf.device(device):\n",
        "\n",
        "\n",
        "        loss_fn = tf.keras.losses.SparseCategoricalCrossentropy()\n",
        "\n",
        "        model = model_init_fn()\n",
        "        optimizer = optimizer_init_fn()\n",
        "\n",
        "        train_loss = tf.keras.metrics.Mean(name='train_loss')\n",
        "        train_accuracy = tf.keras.metrics.SparseCategoricalAccuracy(name='train_accuracy')\n",
        "\n",
        "        val_loss = tf.keras.metrics.Mean(name='val_loss')\n",
        "        val_accuracy = tf.keras.metrics.SparseCategoricalAccuracy(name='val_accuracy')\n",
        "\n",
        "        t = 0\n",
        "        for epoch in range(num_epochs):\n",
        "\n",
        "            # Reset the metrics - https://www.tensorflow.org/alpha/guide/migration_guide#new-style_metrics\n",
        "            train_loss.reset_states()\n",
        "            train_accuracy.reset_states()\n",
        "\n",
        "            for x_np, y_np in train_dset:\n",
        "                with tf.GradientTape() as tape:\n",
        "\n",
        "                    # Use the model function to build the forward pass.\n",
        "                    scores = model(x_np, training=is_training)\n",
        "                    loss = loss_fn(y_np, scores)\n",
        "\n",
        "                    gradients = tape.gradient(loss, model.trainable_variables)\n",
        "                    optimizer.apply_gradients(zip(gradients, model.trainable_variables))\n",
        "\n",
        "                    # Update the metrics\n",
        "                    train_loss.update_state(loss)\n",
        "                    train_accuracy.update_state(y_np, scores)\n",
        "\n",
        "                    if t % print_every == 0:\n",
        "                        val_loss.reset_states()\n",
        "                        val_accuracy.reset_states()\n",
        "                        for test_x, test_y in val_dset:\n",
        "                            # During validation at end of epoch, training set to False\n",
        "                            prediction = model(test_x, training=False)\n",
        "                            t_loss = loss_fn(test_y, prediction)\n",
        "\n",
        "                            val_loss.update_state(t_loss)\n",
        "                            val_accuracy.update_state(test_y, prediction)\n",
        "\n",
        "                        template = 'Iteration {}, Epoch {}, Loss: {}, Accuracy: {}, Val Loss: {}, Val Accuracy: {}'\n",
        "                        print (template.format(t, epoch+1,\n",
        "                                             train_loss.result(),\n",
        "                                             train_accuracy.result()*100,\n",
        "                                             val_loss.result(),\n",
        "                                             val_accuracy.result()*100))\n",
        "                    t += 1"
      ]
    },
    {
      "cell_type": "code",
      "execution_count": null,
      "metadata": {
        "colab": {
          "base_uri": "https://localhost:8080/"
        },
        "id": "36Q_ICHEhe51",
        "outputId": "2e106115-028d-4da5-b428-345386268253"
      },
      "outputs": [
        {
          "name": "stdout",
          "output_type": "stream",
          "text": [
            "Iteration 0, Epoch 1, Loss: 3.178163766860962, Accuracy: 12.5, Val Loss: 2.880155086517334, Val Accuracy: 18.700000762939453\n",
            "Iteration 100, Epoch 1, Loss: 0.6502761244773865, Accuracy: 79.93502807617188, Val Loss: 0.5491976737976074, Val Accuracy: 81.69999694824219\n",
            "Iteration 200, Epoch 1, Loss: 0.5115123987197876, Accuracy: 84.70926666259766, Val Loss: 0.4585873782634735, Val Accuracy: 85.9000015258789\n",
            "Iteration 300, Epoch 1, Loss: 0.4506295621395111, Accuracy: 86.53966522216797, Val Loss: 0.41713929176330566, Val Accuracy: 86.5999984741211\n",
            "Iteration 400, Epoch 1, Loss: 0.4059465825557709, Accuracy: 87.86237335205078, Val Loss: 0.37436404824256897, Val Accuracy: 89.0999984741211\n",
            "Iteration 500, Epoch 1, Loss: 0.3827510178089142, Accuracy: 88.61963653564453, Val Loss: 0.3468128740787506, Val Accuracy: 90.10000610351562\n",
            "Iteration 600, Epoch 1, Loss: 0.3594517409801483, Accuracy: 89.28607940673828, Val Loss: 0.348834365606308, Val Accuracy: 90.5999984741211\n",
            "Iteration 700, Epoch 1, Loss: 0.34282857179641724, Accuracy: 89.84263610839844, Val Loss: 0.3114544153213501, Val Accuracy: 91.29999542236328\n"
          ]
        }
      ],
      "source": [
        "hidden_size, num_classes = 4000, 10\n",
        "learning_rate = 1e-2\n",
        "\n",
        "def model_init_fn():\n",
        "    return TwoLayerFC(hidden_size, num_classes)\n",
        "\n",
        "def optimizer_init_fn():\n",
        "    return tf.keras.optimizers.SGD(learning_rate=learning_rate)\n",
        "\n",
        "train_part34(model_init_fn, optimizer_init_fn)"
      ]
    },
    {
      "cell_type": "markdown",
      "metadata": {
        "id": "C3QEzWyPhe51"
      },
      "source": [
        "Обучите трехслойную CNN. В tf.keras.optimizers.SGD укажите Nesterov momentum = 0.9 .\n",
        "\n",
        "https://www.tensorflow.org/versions/r2.0/api_docs/python/tf/optimizers/SGD\n",
        "\n",
        "Значение accuracy на валидационной выборке после 1 эпохи обучения должно быть > 50% ."
      ]
    },
    {
      "cell_type": "code",
      "execution_count": null,
      "metadata": {
        "colab": {
          "base_uri": "https://localhost:8080/"
        },
        "id": "rWn0CjO4he51",
        "outputId": "c0007b91-3be7-4cc9-b032-ff29ab3e2368"
      },
      "outputs": [
        {
          "name": "stdout",
          "output_type": "stream",
          "text": [
            "Iteration 0, Epoch 1, Loss: 2.887362003326416, Accuracy: 15.625, Val Loss: 2.7359800338745117, Val Accuracy: 20.700000762939453\n",
            "Iteration 100, Epoch 1, Loss: 0.4475470185279846, Accuracy: 86.47895812988281, Val Loss: 0.3676893413066864, Val Accuracy: 87.80000305175781\n",
            "Iteration 200, Epoch 1, Loss: 0.3348863124847412, Accuracy: 90.08084869384766, Val Loss: 0.32356658577919006, Val Accuracy: 89.0999984741211\n",
            "Iteration 300, Epoch 1, Loss: 0.27326348423957825, Accuracy: 91.87084197998047, Val Loss: 0.16036497056484222, Val Accuracy: 94.4000015258789\n",
            "Iteration 400, Epoch 1, Loss: 0.2329058200120926, Accuracy: 93.04083251953125, Val Loss: 0.16865861415863037, Val Accuracy: 95.0\n",
            "Iteration 500, Epoch 1, Loss: 0.21099543571472168, Accuracy: 93.73129272460938, Val Loss: 0.15520691871643066, Val Accuracy: 95.20000457763672\n",
            "Iteration 600, Epoch 1, Loss: 0.1918870061635971, Accuracy: 94.33235931396484, Val Loss: 0.1722462773323059, Val Accuracy: 94.80000305175781\n",
            "Iteration 700, Epoch 1, Loss: 0.17754793167114258, Accuracy: 94.74857330322266, Val Loss: 0.12990674376487732, Val Accuracy: 96.20000457763672\n"
          ]
        }
      ],
      "source": [
        "learning_rate = 3e-3\n",
        "channel_1, channel_2, num_classes = 28, 14, 10\n",
        "\n",
        "def model_init_fn():\n",
        "    model = None\n",
        "    ############################################################################\n",
        "    # TODO: Complete the implementation of model_fn.                           #\n",
        "    ############################################################################\n",
        "    # *****START OF YOUR CODE (DO NOT DELETE/MODIFY THIS LINE)*****\n",
        "\n",
        "    # создаём модель \n",
        "    model = ThreeLayerConvNet(channel_1, channel_2, num_classes)\n",
        "\n",
        "    # *****END OF YOUR CODE (DO NOT DELETE/MODIFY THIS LINE)*****\n",
        "    ############################################################################\n",
        "    #                           END OF YOUR CODE                               #\n",
        "    ############################################################################\n",
        "    return model\n",
        "\n",
        "def optimizer_init_fn():\n",
        "    optimizer = None\n",
        "    ############################################################################\n",
        "    # TODO: Complete the implementation of model_fn.                           #\n",
        "    ############################################################################\n",
        "    # *****START OF YOUR CODE (DO NOT DELETE/MODIFY THIS LINE)*****\n",
        "\n",
        "    # задаём оптимизатор \n",
        "    optimizer = tf.keras.optimizers.SGD(learning_rate, 0.9, nesterov=True)\n",
        "\n",
        "    # *****END OF YOUR CODE (DO NOT DELETE/MODIFY THIS LINE)*****\n",
        "    ############################################################################\n",
        "    #                           END OF YOUR CODE                               #\n",
        "    ############################################################################\n",
        "    return optimizer\n",
        "\n",
        "train_part34(model_init_fn, optimizer_init_fn)"
      ]
    },
    {
      "cell_type": "markdown",
      "metadata": {
        "id": "u0En1Qe-he51"
      },
      "source": [
        "# Использование Keras Sequential API для реализации последовательных моделей.\n",
        "\n",
        "Пример для полносвязной сети:"
      ]
    },
    {
      "cell_type": "code",
      "execution_count": null,
      "metadata": {
        "colab": {
          "base_uri": "https://localhost:8080/"
        },
        "id": "oGlMDdYphe51",
        "outputId": "6e806690-e35c-443a-b8a8-25a82e3bd110"
      },
      "outputs": [
        {
          "name": "stdout",
          "output_type": "stream",
          "text": [
            "Iteration 0, Epoch 1, Loss: 3.0605976581573486, Accuracy: 9.375, Val Loss: 2.459728479385376, Val Accuracy: 17.80000114440918\n",
            "Iteration 100, Epoch 1, Loss: 0.6297723650932312, Accuracy: 80.92512512207031, Val Loss: 0.5358396768569946, Val Accuracy: 83.20000457763672\n",
            "Iteration 200, Epoch 1, Loss: 0.5025713443756104, Accuracy: 85.07463073730469, Val Loss: 0.44012731313705444, Val Accuracy: 86.5999984741211\n",
            "Iteration 300, Epoch 1, Loss: 0.44850730895996094, Accuracy: 86.64867401123047, Val Loss: 0.4204382300376892, Val Accuracy: 86.5999984741211\n",
            "Iteration 400, Epoch 1, Loss: 0.40552788972854614, Accuracy: 88.00265502929688, Val Loss: 0.36974456906318665, Val Accuracy: 89.60000610351562\n",
            "Iteration 500, Epoch 1, Loss: 0.38342562317848206, Accuracy: 88.68824768066406, Val Loss: 0.34171047806739807, Val Accuracy: 90.20000457763672\n",
            "Iteration 600, Epoch 1, Loss: 0.3607070744037628, Accuracy: 89.32508087158203, Val Loss: 0.33536458015441895, Val Accuracy: 90.0\n",
            "Iteration 700, Epoch 1, Loss: 0.34372347593307495, Accuracy: 89.85601043701172, Val Loss: 0.3138633072376251, Val Accuracy: 90.20000457763672\n"
          ]
        }
      ],
      "source": [
        "learning_rate = 1e-2\n",
        "\n",
        "def model_init_fn():\n",
        "    input_shape = (28, 28, 1)\n",
        "    hidden_layer_size, num_classes = 4000, 10\n",
        "    initializer = tf.initializers.VarianceScaling(scale=2.0)\n",
        "    layers = [\n",
        "        tf.keras.layers.Flatten(input_shape=input_shape),\n",
        "        tf.keras.layers.Dense(hidden_layer_size, activation='relu',\n",
        "                              kernel_initializer=initializer),\n",
        "        tf.keras.layers.Dense(num_classes, activation='softmax',\n",
        "                              kernel_initializer=initializer),\n",
        "    ]\n",
        "    model = tf.keras.Sequential(layers)\n",
        "    return model\n",
        "\n",
        "def optimizer_init_fn():\n",
        "    return tf.keras.optimizers.SGD(learning_rate=learning_rate)\n",
        "\n",
        "train_part34(model_init_fn, optimizer_init_fn)"
      ]
    },
    {
      "cell_type": "markdown",
      "metadata": {
        "id": "6DWiNUEYhe51"
      },
      "source": [
        "Альтернативный менее гибкий способ обучения:"
      ]
    },
    {
      "cell_type": "code",
      "execution_count": null,
      "metadata": {
        "colab": {
          "base_uri": "https://localhost:8080/"
        },
        "id": "tPl9aDZShe51",
        "outputId": "6314e5e6-cfbf-4bfd-f2e6-a229996496a4"
      },
      "outputs": [
        {
          "name": "stdout",
          "output_type": "stream",
          "text": [
            "766/766 [==============================] - 3s 4ms/step - loss: 0.3453 - sparse_categorical_accuracy: 0.8992 - val_loss: 0.2851 - val_sparse_categorical_accuracy: 0.9200\n",
            "313/313 [==============================] - 1s 2ms/step - loss: 0.2104 - sparse_categorical_accuracy: 0.9394\n"
          ]
        },
        {
          "data": {
            "text/plain": [
              "[0.21039751172065735, 0.9394000172615051]"
            ]
          },
          "execution_count": 116,
          "metadata": {},
          "output_type": "execute_result"
        }
      ],
      "source": [
        "model = model_init_fn()\n",
        "model.compile(optimizer=tf.keras.optimizers.SGD(learning_rate=learning_rate),\n",
        "              loss='sparse_categorical_crossentropy',\n",
        "              metrics=[tf.keras.metrics.sparse_categorical_accuracy])\n",
        "model.fit(X_train, y_train, batch_size=64, epochs=1, validation_data=(X_val, y_val))\n",
        "model.evaluate(X_test, y_test)"
      ]
    },
    {
      "cell_type": "markdown",
      "metadata": {
        "id": "6rSJ5UWlhe51"
      },
      "source": [
        "Перепишите реализацию трехслойной CNN с помощью tf.keras.Sequential API . Обучите модель двумя способами."
      ]
    },
    {
      "cell_type": "code",
      "execution_count": null,
      "metadata": {
        "colab": {
          "base_uri": "https://localhost:8080/"
        },
        "id": "bUG8fuTlhe52",
        "outputId": "8e800692-8d7c-40b1-960e-78f45c8efb9b"
      },
      "outputs": [
        {
          "name": "stdout",
          "output_type": "stream",
          "text": [
            "Iteration 0, Epoch 1, Loss: 3.0814576148986816, Accuracy: 18.75, Val Loss: 2.755061388015747, Val Accuracy: 12.100000381469727\n",
            "Iteration 100, Epoch 1, Loss: 0.6676200032234192, Accuracy: 79.7339096069336, Val Loss: 0.5117015242576599, Val Accuracy: 82.4000015258789\n",
            "Iteration 200, Epoch 1, Loss: 0.5195857882499695, Accuracy: 84.2817153930664, Val Loss: 0.46267062425613403, Val Accuracy: 85.19999694824219\n",
            "Iteration 300, Epoch 1, Loss: 0.4520604908466339, Accuracy: 86.27491760253906, Val Loss: 0.3340175747871399, Val Accuracy: 90.0\n",
            "Iteration 400, Epoch 1, Loss: 0.40151551365852356, Accuracy: 87.83899688720703, Val Loss: 0.32256466150283813, Val Accuracy: 90.30000305175781\n",
            "Iteration 500, Epoch 1, Loss: 0.3697809875011444, Accuracy: 88.85665893554688, Val Loss: 0.2788415849208832, Val Accuracy: 92.0999984741211\n",
            "Iteration 600, Epoch 1, Loss: 0.3428543508052826, Accuracy: 89.6838607788086, Val Loss: 0.28889036178588867, Val Accuracy: 90.5999984741211\n",
            "Iteration 700, Epoch 1, Loss: 0.3222733438014984, Accuracy: 90.33078002929688, Val Loss: 0.2357664406299591, Val Accuracy: 92.9000015258789\n"
          ]
        }
      ],
      "source": [
        "def model_init_fn():\n",
        "    model = None\n",
        "    ############################################################################\n",
        "    # TODO: Construct a three-layer ConvNet using tf.keras.Sequential.         #\n",
        "    ############################################################################\n",
        "    # *****START OF YOUR CODE (DO NOT DELETE/MODIFY THIS LINE)*****\n",
        "\n",
        "    input_shape = (28,28,1)\n",
        "    channel_1, channel_2, num_classes = 28, 14, 10\n",
        "    initializer = tf.initializers.VarianceScaling(scale=2.0)\n",
        "    # создаём модель, только теперь сразу задаём порядок слоёв\n",
        "    layers = [\n",
        "        tf.keras.layers.Conv2D(channel_1, [5,5], [1,1], padding='same',\n",
        "                               kernel_initializer=initializer,\n",
        "                               activation='relu'),\n",
        "        tf.keras.layers.Conv2D(channel_2, [3,3], [1,1], padding='same',\n",
        "                               kernel_initializer=initializer,\n",
        "                               activation='relu'),\n",
        "        tf.keras.layers.Flatten(),\n",
        "        tf.keras.layers.Dense(num_classes,\n",
        "                              activation='softmax',\n",
        "                              kernel_initializer=initializer)\n",
        "    ]\n",
        "    model = tf.keras.Sequential(layers)\n",
        "\n",
        "    # *****END OF YOUR CODE (DO NOT DELETE/MODIFY THIS LINE)*****\n",
        "    ############################################################################\n",
        "    #                            END OF YOUR CODE                              #\n",
        "    ############################################################################\n",
        "    return model\n",
        "\n",
        "learning_rate = 5e-4\n",
        "def optimizer_init_fn():\n",
        "    optimizer = None\n",
        "    ############################################################################\n",
        "    # TODO: Complete the implementation of model_fn.                           #\n",
        "    ############################################################################\n",
        "    # *****START OF YOUR CODE (DO NOT DELETE/MODIFY THIS LINE)*****\n",
        "\n",
        "    optimizer = tf.keras.optimizers.SGD(learning_rate, momentum=0.9, nesterov=True)\n",
        "\n",
        "    # *****END OF YOUR CODE (DO NOT DELETE/MODIFY THIS LINE)*****\n",
        "    ############################################################################\n",
        "    #                           END OF YOUR CODE                               #\n",
        "    ############################################################################\n",
        "    return optimizer\n",
        "\n",
        "train_part34(model_init_fn, optimizer_init_fn)"
      ]
    },
    {
      "cell_type": "code",
      "execution_count": null,
      "metadata": {
        "colab": {
          "base_uri": "https://localhost:8080/"
        },
        "id": "ZFyc1_AKhe52",
        "outputId": "aa336db7-2905-454f-f69f-7a11a262d56b"
      },
      "outputs": [
        {
          "name": "stdout",
          "output_type": "stream",
          "text": [
            "766/766 [==============================] - 4s 5ms/step - loss: 0.2423 - sparse_categorical_accuracy: 0.9277 - val_loss: 0.1573 - val_sparse_categorical_accuracy: 0.9460\n",
            "313/313 [==============================] - 1s 3ms/step - loss: 0.1011 - sparse_categorical_accuracy: 0.9688\n"
          ]
        },
        {
          "data": {
            "text/plain": [
              "[0.10114999860525131, 0.9688000082969666]"
            ]
          },
          "execution_count": 118,
          "metadata": {},
          "output_type": "execute_result"
        }
      ],
      "source": [
        "model = model_init_fn()\n",
        "model.compile(optimizer='sgd',\n",
        "              loss='sparse_categorical_crossentropy',\n",
        "              metrics=[tf.keras.metrics.sparse_categorical_accuracy])\n",
        "model.fit(X_train, y_train, batch_size=64, epochs=1, validation_data=(X_val, y_val))\n",
        "\n",
        "model.evaluate(X_test, y_test)"
      ]
    },
    {
      "cell_type": "markdown",
      "metadata": {
        "id": "TX4eaD91he52"
      },
      "source": [
        "# Использование Keras Functional API\n",
        "\n",
        "Для реализации более сложных архитектур сети с несколькими входами/выходами, повторным использованием слоев, \"остаточными\" связями (residual connections) необходимо явно указать входные и выходные тензоры.\n",
        "\n",
        "Ниже представлен пример для полносвязной сети."
      ]
    },
    {
      "cell_type": "code",
      "execution_count": null,
      "metadata": {
        "colab": {
          "base_uri": "https://localhost:8080/"
        },
        "id": "GlfrW3oKhe52",
        "outputId": "87bc1aaf-5246-43eb-8c39-f72e551c3340"
      },
      "outputs": [
        {
          "name": "stdout",
          "output_type": "stream",
          "text": [
            "(64, 10)\n"
          ]
        }
      ],
      "source": [
        "def two_layer_fc_functional(input_shape, hidden_size, num_classes):\n",
        "    initializer = tf.initializers.VarianceScaling(scale=2.0)\n",
        "    inputs = tf.keras.Input(shape=input_shape)\n",
        "    flattened_inputs = tf.keras.layers.Flatten()(inputs)\n",
        "    fc1_output = tf.keras.layers.Dense(hidden_size, activation='relu',\n",
        "                                 kernel_initializer=initializer)(flattened_inputs)\n",
        "    scores = tf.keras.layers.Dense(num_classes, activation='softmax',\n",
        "                             kernel_initializer=initializer)(fc1_output)\n",
        "\n",
        "    # Instantiate the model given inputs and outputs.\n",
        "    model = tf.keras.Model(inputs=inputs, outputs=scores)\n",
        "    return model\n",
        "\n",
        "def test_two_layer_fc_functional():\n",
        "    \"\"\" A small unit test to exercise the TwoLayerFC model above. \"\"\"\n",
        "    input_size, hidden_size, num_classes = 50, 42, 10\n",
        "    input_shape = (50,)\n",
        "\n",
        "    x = tf.zeros((64, input_size))\n",
        "    model = two_layer_fc_functional(input_shape, hidden_size, num_classes)\n",
        "\n",
        "    with tf.device(device):\n",
        "        scores = model(x)\n",
        "        print(scores.shape)\n",
        "\n",
        "test_two_layer_fc_functional()"
      ]
    },
    {
      "cell_type": "code",
      "execution_count": null,
      "metadata": {
        "colab": {
          "base_uri": "https://localhost:8080/"
        },
        "id": "F0LVzgLXhe52",
        "outputId": "e20ff95d-0621-4d54-b50b-76f5eedf00c8"
      },
      "outputs": [
        {
          "name": "stdout",
          "output_type": "stream",
          "text": [
            "Iteration 0, Epoch 1, Loss: 2.972747802734375, Accuracy: 15.625, Val Loss: 2.5733275413513184, Val Accuracy: 25.899999618530273\n",
            "Iteration 100, Epoch 1, Loss: 0.6422700881958008, Accuracy: 80.29084014892578, Val Loss: 0.5416250228881836, Val Accuracy: 83.0999984741211\n",
            "Iteration 200, Epoch 1, Loss: 0.5097734928131104, Accuracy: 84.8103256225586, Val Loss: 0.45691603422164917, Val Accuracy: 86.19999694824219\n",
            "Iteration 300, Epoch 1, Loss: 0.4524313509464264, Accuracy: 86.48774719238281, Val Loss: 0.4177607297897339, Val Accuracy: 87.5999984741211\n",
            "Iteration 400, Epoch 1, Loss: 0.4089885652065277, Accuracy: 87.86627197265625, Val Loss: 0.37110236287117004, Val Accuracy: 89.20000457763672\n",
            "Iteration 500, Epoch 1, Loss: 0.38532134890556335, Accuracy: 88.61963653564453, Val Loss: 0.35569119453430176, Val Accuracy: 90.20000457763672\n",
            "Iteration 600, Epoch 1, Loss: 0.362491637468338, Accuracy: 89.27308654785156, Val Loss: 0.3431010842323303, Val Accuracy: 90.5999984741211\n",
            "Iteration 700, Epoch 1, Loss: 0.3454407751560211, Accuracy: 89.82034301757812, Val Loss: 0.31743261218070984, Val Accuracy: 90.4000015258789\n"
          ]
        }
      ],
      "source": [
        "input_shape = (28, 28, 1)\n",
        "hidden_size, num_classes = 4000, 10\n",
        "learning_rate = 1e-2\n",
        "\n",
        "def model_init_fn():\n",
        "    return two_layer_fc_functional(input_shape, hidden_size, num_classes)\n",
        "\n",
        "def optimizer_init_fn():\n",
        "    return tf.keras.optimizers.SGD(learning_rate=learning_rate)\n",
        "\n",
        "train_part34(model_init_fn, optimizer_init_fn)"
      ]
    },
    {
      "cell_type": "markdown",
      "metadata": {
        "id": "Q6m_wdZDhe52"
      },
      "source": [
        "Поэкспериментируйте с архитектурой сверточной сети. Для вашего набора данных вам необходимо получить как минимум 70% accuracy на валидационной выборке за 10 эпох обучения. Опишите все эксперименты и сделайте выводы (без выполнения данного пункта работы приниматься не будут).\n",
        "\n",
        "Эспериментируйте с архитектурой, гиперпараметрами, функцией потерь, регуляризацией, методом оптимизации.  \n",
        "\n",
        "https://www.tensorflow.org/versions/r2.0/api_docs/python/tf/keras/layers/BatchNormalization#methods https://www.tensorflow.org/versions/r2.0/api_docs/python/tf/keras/layers/Dropout#methods"
      ]
    },
    {
      "cell_type": "code",
      "execution_count": null,
      "metadata": {
        "id": "J1vLUIx9AXmi"
      },
      "outputs": [],
      "source": [
        "class CustomConvNet_B_and_D(tf.keras.Model):\n",
        "    def __init__(self):\n",
        "        super(CustomConvNet_B_and_D, self).__init__()\n",
        "        ############################################################################\n",
        "        # TODO: Construct a model that performs well on CIFAR-10                   #\n",
        "        ############################################################################\n",
        "        # *****START OF YOUR CODE (DO NOT DELETE/MODIFY THIS LINE)*****\n",
        "\n",
        "        channel_1, channel_2, num_classes = 28, 14, 10\n",
        "        dp_rate = 0.2\n",
        "        initializer = tf.initializers.VarianceScaling(scale=2.0)\n",
        "        self.conv1 = tf.keras.layers.Conv2D(channel_1, [3,3], [1,1], padding='same',\n",
        "                                  kernel_initializer=initializer)\n",
        "        self.bn1 = tf.keras.layers.BatchNormalization()\n",
        "        self.relu1 = tf.keras.layers.ReLU()\n",
        "        self.dp1 = tf.keras.layers.Dropout(rate=dp_rate)\n",
        "        self.conv2 = tf.keras.layers.Conv2D(channel_2, [3,3], [1,1], padding='same',\n",
        "                                  kernel_initializer=initializer)\n",
        "        self.bn2 = tf.keras.layers.BatchNormalization()\n",
        "        self.relu2 = tf.keras.layers.ReLU()\n",
        "        self.dp2 = tf.keras.layers.Dropout(rate=dp_rate)\n",
        "        self.fl = tf.keras.layers.Flatten()\n",
        "        self.fc = tf.keras.layers.Dense(num_classes,\n",
        "                                  activation='softmax',\n",
        "                                  kernel_initializer=initializer)\n",
        "\n",
        "        # *****END OF YOUR CODE (DO NOT DELETE/MODIFY THIS LINE)*****\n",
        "        ############################################################################\n",
        "        #                            END OF YOUR CODE                              #\n",
        "        ############################################################################\n",
        "\n",
        "    def call(self, input_tensor, training=False):\n",
        "        ############################################################################\n",
        "        # TODO: Construct a model that performs well on CIFAR-10                   #\n",
        "        ############################################################################\n",
        "        # *****START OF YOUR CODE (DO NOT DELETE/MODIFY THIS LINE)*****\n",
        "        x = input_tensor\n",
        "        x = self.conv1(x)\n",
        "        x = self.bn1(x)\n",
        "        x = self.relu1(x)\n",
        "        x = self.dp1(x)\n",
        "\n",
        "        x = self.conv2(x)\n",
        "        x = self.bn2(x)\n",
        "        x = self.relu2(x)\n",
        "        x = self.dp2(x)\n",
        "\n",
        "        x = self.fl(x)\n",
        "        x = self.fc(x)\n",
        "\n",
        "        # *****END OF YOUR CODE (DO NOT DELETE/MODIFY THIS LINE)*****\n",
        "        ############################################################################\n",
        "        #                            END OF YOUR CODE                              #\n",
        "        ############################################################################\n",
        "        return x"
      ]
    },
    {
      "cell_type": "code",
      "execution_count": null,
      "metadata": {
        "colab": {
          "base_uri": "https://localhost:8080/"
        },
        "id": "13TNoEQZKtXJ",
        "outputId": "ce69c511-34c2-4a22-e8c9-e2feecfc1d8d"
      },
      "outputs": [
        {
          "name": "stdout",
          "output_type": "stream",
          "text": [
            "Iteration 0, Epoch 1, Loss: 2.81795072555542, Accuracy: 12.5, Val Loss: 3.44238018989563, Val Accuracy: 13.0\n",
            "Iteration 500, Epoch 1, Loss: 0.2895374298095703, Accuracy: 91.07098388671875, Val Loss: 0.1784411370754242, Val Accuracy: 94.5999984741211\n",
            "Iteration 1000, Epoch 2, Loss: 0.10361422598361969, Accuracy: 96.80850982666016, Val Loss: 0.1299298107624054, Val Accuracy: 95.20000457763672\n",
            "Iteration 1500, Epoch 2, Loss: 0.08859823644161224, Accuracy: 97.28528594970703, Val Loss: 0.13115791976451874, Val Accuracy: 95.9000015258789\n",
            "Iteration 2000, Epoch 3, Loss: 0.06556376069784164, Accuracy: 98.00772857666016, Val Loss: 0.10865584760904312, Val Accuracy: 96.0\n",
            "Iteration 2500, Epoch 4, Loss: 0.058869868516922, Accuracy: 98.2681655883789, Val Loss: 0.11121949553489685, Val Accuracy: 96.69999694824219\n",
            "Iteration 3000, Epoch 4, Loss: 0.05121024698019028, Accuracy: 98.3863754272461, Val Loss: 0.11465171724557877, Val Accuracy: 96.9000015258789\n",
            "Iteration 3500, Epoch 5, Loss: 0.04014897719025612, Accuracy: 98.70923614501953, Val Loss: 0.09947951883077621, Val Accuracy: 96.5999984741211\n",
            "Iteration 4000, Epoch 6, Loss: 0.03769945353269577, Accuracy: 98.86695861816406, Val Loss: 0.10957561433315277, Val Accuracy: 96.4000015258789\n",
            "Iteration 4500, Epoch 6, Loss: 0.03561525419354439, Accuracy: 98.85665130615234, Val Loss: 0.0891953706741333, Val Accuracy: 97.39999389648438\n",
            "Iteration 5000, Epoch 7, Loss: 0.030137326568365097, Accuracy: 98.93518829345703, Val Loss: 0.07402916252613068, Val Accuracy: 97.69999694824219\n",
            "Iteration 5500, Epoch 8, Loss: 0.024999745190143585, Accuracy: 99.20188903808594, Val Loss: 0.10196468234062195, Val Accuracy: 97.19999694824219\n",
            "Iteration 6000, Epoch 8, Loss: 0.02356763929128647, Accuracy: 99.17595672607422, Val Loss: 0.10736461728811264, Val Accuracy: 97.0\n",
            "Iteration 6500, Epoch 9, Loss: 0.022677069529891014, Accuracy: 99.25435638427734, Val Loss: 0.08593976497650146, Val Accuracy: 97.5999984741211\n",
            "Iteration 7000, Epoch 10, Loss: 0.02331496775150299, Accuracy: 99.18224334716797, Val Loss: 0.07666105031967163, Val Accuracy: 98.19999694824219\n",
            "Iteration 7500, Epoch 10, Loss: 0.018932895734906197, Accuracy: 99.35388946533203, Val Loss: 0.09356309473514557, Val Accuracy: 97.39999389648438\n"
          ]
        }
      ],
      "source": [
        "print_every = 500\n",
        "num_epochs = 10\n",
        "\n",
        "def model_init_fn():\n",
        "    return CustomConvNet_B_and_D()\n",
        "\n",
        "def optimizer_init_fn():\n",
        "    learning_rate = 1e-3\n",
        "    return tf.keras.optimizers.Adam(learning_rate)\n",
        "\n",
        "train_part34(model_init_fn, optimizer_init_fn, num_epochs=num_epochs, is_training=True)"
      ]
    },
    {
      "cell_type": "code",
      "execution_count": null,
      "metadata": {
        "colab": {
          "base_uri": "https://localhost:8080/"
        },
        "id": "QGiaQ2PwJE5M",
        "outputId": "b85b6b80-c686-4990-fa69-b6ceff7b4cf1"
      },
      "outputs": [
        {
          "name": "stdout",
          "output_type": "stream",
          "text": [
            "Iteration 0, Epoch 1, Loss: 3.0820937156677246, Accuracy: 7.8125, Val Loss: 2.931793689727783, Val Accuracy: 11.90000057220459\n",
            "Iteration 500, Epoch 1, Loss: 0.5849037170410156, Accuracy: 81.63672637939453, Val Loss: 0.3478394150733948, Val Accuracy: 90.10000610351562\n",
            "Iteration 1000, Epoch 2, Loss: 0.24084007740020752, Accuracy: 92.7726058959961, Val Loss: 0.2583177387714386, Val Accuracy: 92.0\n",
            "Iteration 1500, Epoch 2, Loss: 0.2022852897644043, Accuracy: 94.02210998535156, Val Loss: 0.1856543868780136, Val Accuracy: 94.30000305175781\n",
            "Iteration 2000, Epoch 3, Loss: 0.1340954452753067, Accuracy: 96.18203735351562, Val Loss: 0.1579604595899582, Val Accuracy: 94.5999984741211\n",
            "Iteration 2500, Epoch 4, Loss: 0.10674313455820084, Accuracy: 96.85960388183594, Val Loss: 0.13616518676280975, Val Accuracy: 95.0999984741211\n",
            "Iteration 3000, Epoch 4, Loss: 0.0983617901802063, Accuracy: 97.1083755493164, Val Loss: 0.11497814208269119, Val Accuracy: 96.30000305175781\n",
            "Iteration 3500, Epoch 5, Loss: 0.07989414036273956, Accuracy: 97.68306732177734, Val Loss: 0.11403633654117584, Val Accuracy: 96.0\n",
            "Iteration 4000, Epoch 6, Loss: 0.07105714082717896, Accuracy: 97.95321655273438, Val Loss: 0.10547080636024475, Val Accuracy: 95.9000015258789\n",
            "Iteration 4500, Epoch 6, Loss: 0.06823521107435226, Accuracy: 97.9717788696289, Val Loss: 0.09884626418352127, Val Accuracy: 96.5999984741211\n",
            "Iteration 5000, Epoch 7, Loss: 0.05822208523750305, Accuracy: 98.23688507080078, Val Loss: 0.09290499240159988, Val Accuracy: 96.9000015258789\n",
            "Iteration 5500, Epoch 8, Loss: 0.06093034893274307, Accuracy: 98.05530548095703, Val Loss: 0.08749933540821075, Val Accuracy: 96.80000305175781\n",
            "Iteration 6000, Epoch 8, Loss: 0.054972801357507706, Accuracy: 98.31523895263672, Val Loss: 0.09643583744764328, Val Accuracy: 96.30000305175781\n",
            "Iteration 6500, Epoch 9, Loss: 0.04859637841582298, Accuracy: 98.40817260742188, Val Loss: 0.09693693369626999, Val Accuracy: 96.9000015258789\n",
            "Iteration 7000, Epoch 10, Loss: 0.043797075748443604, Accuracy: 98.62733459472656, Val Loss: 0.08937812596559525, Val Accuracy: 96.69999694824219\n",
            "Iteration 7500, Epoch 10, Loss: 0.043239425867795944, Accuracy: 98.6382827758789, Val Loss: 0.09271856397390366, Val Accuracy: 96.80000305175781\n"
          ]
        }
      ],
      "source": [
        "def model_init_fn():\n",
        "    return CustomConvNet_B_and_D()\n",
        "\n",
        "def optimizer_init_fn():\n",
        "    learning_rate = 1e-4\n",
        "    return tf.keras.optimizers.Adam(learning_rate)\n",
        "\n",
        "train_part34(model_init_fn, optimizer_init_fn, num_epochs=num_epochs, is_training=True)"
      ]
    },
    {
      "cell_type": "code",
      "execution_count": null,
      "metadata": {
        "colab": {
          "base_uri": "https://localhost:8080/"
        },
        "id": "FvXZ-uv1JkWI",
        "outputId": "ac93cf09-1c75-42b1-efa3-7a760ae16474"
      },
      "outputs": [
        {
          "name": "stdout",
          "output_type": "stream",
          "text": [
            "Iteration 0, Epoch 1, Loss: 2.9370367527008057, Accuracy: 7.8125, Val Loss: 2.8018486499786377, Val Accuracy: 11.800000190734863\n",
            "Iteration 500, Epoch 1, Loss: 0.8407033681869507, Accuracy: 73.82422637939453, Val Loss: 0.49360814690589905, Val Accuracy: 86.0\n",
            "Iteration 1000, Epoch 2, Loss: 0.39733263850212097, Accuracy: 88.34441375732422, Val Loss: 0.4039209187030792, Val Accuracy: 88.80000305175781\n",
            "Iteration 1500, Epoch 2, Loss: 0.37077438831329346, Accuracy: 89.05612182617188, Val Loss: 0.3583632707595825, Val Accuracy: 89.80000305175781\n",
            "Iteration 2000, Epoch 3, Loss: 0.3108516037464142, Accuracy: 90.92484283447266, Val Loss: 0.3232205808162689, Val Accuracy: 91.19999694824219\n",
            "Iteration 2500, Epoch 4, Loss: 0.2683602571487427, Accuracy: 92.11822509765625, Val Loss: 0.29799073934555054, Val Accuracy: 91.5\n",
            "Iteration 3000, Epoch 4, Loss: 0.26287853717803955, Accuracy: 92.27640533447266, Val Loss: 0.27856990694999695, Val Accuracy: 91.9000015258789\n",
            "Iteration 3500, Epoch 5, Loss: 0.23463620245456696, Accuracy: 93.12786102294922, Val Loss: 0.25733131170272827, Val Accuracy: 92.5\n",
            "Iteration 4000, Epoch 6, Loss: 0.21345435082912445, Accuracy: 93.89619445800781, Val Loss: 0.24311235547065735, Val Accuracy: 92.69999694824219\n",
            "Iteration 4500, Epoch 6, Loss: 0.20949189364910126, Accuracy: 93.93628692626953, Val Loss: 0.22626736760139465, Val Accuracy: 93.0999984741211\n",
            "Iteration 5000, Epoch 7, Loss: 0.19101065397262573, Accuracy: 94.42515563964844, Val Loss: 0.21628646552562714, Val Accuracy: 93.0\n",
            "Iteration 5500, Epoch 8, Loss: 0.18245168030261993, Accuracy: 94.78417205810547, Val Loss: 0.20604705810546875, Val Accuracy: 93.69999694824219\n",
            "Iteration 6000, Epoch 8, Loss: 0.17459321022033691, Accuracy: 94.86502075195312, Val Loss: 0.19548745453357697, Val Accuracy: 93.9000015258789\n",
            "Iteration 6500, Epoch 9, Loss: 0.1655796468257904, Accuracy: 95.19939422607422, Val Loss: 0.18789349496364594, Val Accuracy: 93.9000015258789\n",
            "Iteration 7000, Epoch 10, Loss: 0.14801868796348572, Accuracy: 95.67757415771484, Val Loss: 0.18001939356327057, Val Accuracy: 94.19999694824219\n",
            "Iteration 7500, Epoch 10, Loss: 0.15182174742221832, Accuracy: 95.54932403564453, Val Loss: 0.17661578953266144, Val Accuracy: 94.4000015258789\n"
          ]
        }
      ],
      "source": [
        "def model_init_fn():\n",
        "    return CustomConvNet_B_and_D()\n",
        "\n",
        "def optimizer_init_fn():\n",
        "    learning_rate = 1e-3\n",
        "    return tf.keras.optimizers.SGD(learning_rate)\n",
        "\n",
        "train_part34(model_init_fn, optimizer_init_fn, num_epochs=num_epochs, is_training=True)"
      ]
    },
    {
      "cell_type": "code",
      "execution_count": null,
      "metadata": {
        "id": "voi5A9ZICtD2"
      },
      "outputs": [],
      "source": [
        "class CustomConvNet(tf.keras.Model):\n",
        "    def __init__(self):\n",
        "        super(CustomConvNet, self).__init__()\n",
        "        ############################################################################\n",
        "        # TODO: Construct a model that performs well on CIFAR-10                   #\n",
        "        ############################################################################\n",
        "        # *****START OF YOUR CODE (DO NOT DELETE/MODIFY THIS LINE)*****\n",
        "\n",
        "        channel_1, channel_2, num_classes = 28, 14, 10\n",
        "        dp_rate = 0.2\n",
        "        initializer = tf.initializers.VarianceScaling(scale=2.0)\n",
        "        self.conv1 = tf.keras.layers.Conv2D(channel_1, [3,3], [1,1], padding='same',\n",
        "                                  kernel_initializer=initializer)\n",
        "        self.relu1 = tf.keras.layers.ReLU()\n",
        "        self.conv2 = tf.keras.layers.Conv2D(channel_2, [3,3], [1,1], padding='same',\n",
        "                                  kernel_initializer=initializer)\n",
        "        self.relu2 = tf.keras.layers.ReLU()\n",
        "        self.fl = tf.keras.layers.Flatten()\n",
        "        self.fc = tf.keras.layers.Dense(num_classes,\n",
        "                                  activation='softmax',\n",
        "                                  kernel_initializer=initializer)\n",
        "\n",
        "        # *****END OF YOUR CODE (DO NOT DELETE/MODIFY THIS LINE)*****\n",
        "        ############################################################################\n",
        "        #                            END OF YOUR CODE                              #\n",
        "        ############################################################################\n",
        "\n",
        "    def call(self, input_tensor, training=False):\n",
        "        ############################################################################\n",
        "        # TODO: Construct a model that performs well on CIFAR-10                   #\n",
        "        ############################################################################\n",
        "        # *****START OF YOUR CODE (DO NOT DELETE/MODIFY THIS LINE)*****\n",
        "        x = input_tensor\n",
        "        x = self.conv1(x)\n",
        "        x = self.relu1(x)\n",
        "\n",
        "        x = self.conv2(x)\n",
        "        x = self.relu2(x)\n",
        "\n",
        "        x = self.fl(x)\n",
        "        x = self.fc(x)\n",
        "\n",
        "        # *****END OF YOUR CODE (DO NOT DELETE/MODIFY THIS LINE)*****\n",
        "        ############################################################################\n",
        "        #                            END OF YOUR CODE                              #\n",
        "        ############################################################################\n",
        "        return x"
      ]
    },
    {
      "cell_type": "code",
      "execution_count": null,
      "metadata": {
        "colab": {
          "base_uri": "https://localhost:8080/"
        },
        "id": "u0dh4FQoMm3L",
        "outputId": "a5d34738-2b19-4631-8cf2-2ede14976098"
      },
      "outputs": [
        {
          "name": "stdout",
          "output_type": "stream",
          "text": [
            "Iteration 0, Epoch 1, Loss: 2.9499738216400146, Accuracy: 17.1875, Val Loss: 3.2266273498535156, Val Accuracy: 19.0\n",
            "Iteration 500, Epoch 1, Loss: 0.19944646954536438, Accuracy: 94.04627990722656, Val Loss: 0.15643757581710815, Val Accuracy: 95.0\n",
            "Iteration 1000, Epoch 2, Loss: 0.06698805838823318, Accuracy: 97.83245086669922, Val Loss: 0.11396176367998123, Val Accuracy: 96.20000457763672\n",
            "Iteration 1500, Epoch 2, Loss: 0.05784729868173599, Accuracy: 98.18877410888672, Val Loss: 0.09511176496744156, Val Accuracy: 96.5\n",
            "Iteration 2000, Epoch 3, Loss: 0.03456834331154823, Accuracy: 98.91058349609375, Val Loss: 0.12188944220542908, Val Accuracy: 96.20000457763672\n",
            "Iteration 2500, Epoch 4, Loss: 0.025336775928735733, Accuracy: 99.15332794189453, Val Loss: 0.11148454993963242, Val Accuracy: 97.19999694824219\n",
            "Iteration 3000, Epoch 4, Loss: 0.02267078123986721, Accuracy: 99.21319580078125, Val Loss: 0.11199691146612167, Val Accuracy: 97.0\n",
            "Iteration 3500, Epoch 5, Loss: 0.02141137793660164, Accuracy: 99.27774810791016, Val Loss: 0.17075885832309723, Val Accuracy: 96.20000457763672\n",
            "Iteration 4000, Epoch 6, Loss: 0.01530697476118803, Accuracy: 99.40606689453125, Val Loss: 0.1359543353319168, Val Accuracy: 97.0\n",
            "Iteration 4500, Epoch 6, Loss: 0.013575234450399876, Accuracy: 99.5040054321289, Val Loss: 0.10416289418935776, Val Accuracy: 97.79999542236328\n",
            "Iteration 5000, Epoch 7, Loss: 0.009563992731273174, Accuracy: 99.6759262084961, Val Loss: 0.11251523345708847, Val Accuracy: 97.5\n",
            "Iteration 5500, Epoch 8, Loss: 0.010030599310994148, Accuracy: 99.70773315429688, Val Loss: 0.11220850795507431, Val Accuracy: 97.39999389648438\n",
            "Iteration 6000, Epoch 8, Loss: 0.012097328901290894, Accuracy: 99.65033721923828, Val Loss: 0.2015310376882553, Val Accuracy: 96.10000610351562\n",
            "Iteration 6500, Epoch 9, Loss: 0.007328379433602095, Accuracy: 99.77798461914062, Val Loss: 0.14247854053974152, Val Accuracy: 97.5999984741211\n",
            "Iteration 7000, Epoch 10, Loss: 0.005913933739066124, Accuracy: 99.78096008300781, Val Loss: 0.221983402967453, Val Accuracy: 97.19999694824219\n",
            "Iteration 7500, Epoch 10, Loss: 0.006592462304979563, Accuracy: 99.75546264648438, Val Loss: 0.17755857110023499, Val Accuracy: 96.69999694824219\n"
          ]
        }
      ],
      "source": [
        "print_every = 500\n",
        "num_epochs = 10\n",
        "\n",
        "def model_init_fn():\n",
        "    return CustomConvNet()\n",
        "\n",
        "def optimizer_init_fn():\n",
        "    learning_rate = 1e-3\n",
        "    return tf.keras.optimizers.Adam(learning_rate)\n",
        "\n",
        "train_part34(model_init_fn, optimizer_init_fn, num_epochs=num_epochs, is_training=True)"
      ]
    },
    {
      "cell_type": "code",
      "execution_count": null,
      "metadata": {
        "colab": {
          "base_uri": "https://localhost:8080/"
        },
        "id": "pVLEW8NHJUjN",
        "outputId": "ad298f34-9f28-421e-f6c1-e9c60ba0d0b6"
      },
      "outputs": [
        {
          "name": "stdout",
          "output_type": "stream",
          "text": [
            "Iteration 0, Epoch 1, Loss: 3.05732798576355, Accuracy: 12.5, Val Loss: 2.7515642642974854, Val Accuracy: 10.800000190734863\n",
            "Iteration 500, Epoch 1, Loss: 0.4411048889160156, Accuracy: 86.7203140258789, Val Loss: 0.25927793979644775, Val Accuracy: 92.79999542236328\n",
            "Iteration 1000, Epoch 2, Loss: 0.1416395902633667, Accuracy: 95.81781768798828, Val Loss: 0.16844427585601807, Val Accuracy: 94.70000457763672\n",
            "Iteration 1500, Epoch 2, Loss: 0.1193961501121521, Accuracy: 96.50935363769531, Val Loss: 0.15525172650814056, Val Accuracy: 94.5\n",
            "Iteration 2000, Epoch 3, Loss: 0.08122418075799942, Accuracy: 97.68123626708984, Val Loss: 0.14936621487140656, Val Accuracy: 94.70000457763672\n",
            "Iteration 2500, Epoch 4, Loss: 0.0645400658249855, Accuracy: 98.02955627441406, Val Loss: 0.13093501329421997, Val Accuracy: 95.20000457763672\n",
            "Iteration 3000, Epoch 4, Loss: 0.060318171977996826, Accuracy: 98.266357421875, Val Loss: 0.10893337428569794, Val Accuracy: 96.0\n",
            "Iteration 3500, Epoch 5, Loss: 0.04853532463312149, Accuracy: 98.59839630126953, Val Loss: 0.12110543251037598, Val Accuracy: 95.5\n",
            "Iteration 4000, Epoch 6, Loss: 0.04402278736233711, Accuracy: 98.66593170166016, Val Loss: 0.11398996412754059, Val Accuracy: 95.80000305175781\n",
            "Iteration 4500, Epoch 6, Loss: 0.04014715179800987, Accuracy: 98.86363983154297, Val Loss: 0.09863694757223129, Val Accuracy: 96.30000305175781\n",
            "Iteration 5000, Epoch 7, Loss: 0.03267364948987961, Accuracy: 99.12036895751953, Val Loss: 0.10466136038303375, Val Accuracy: 96.20000457763672\n",
            "Iteration 5500, Epoch 8, Loss: 0.03378402441740036, Accuracy: 98.9883041381836, Val Loss: 0.10092663764953613, Val Accuracy: 96.20000457763672\n",
            "Iteration 6000, Epoch 8, Loss: 0.028004925698041916, Accuracy: 99.23219299316406, Val Loss: 0.10547251254320145, Val Accuracy: 95.9000015258789\n",
            "Iteration 6500, Epoch 9, Loss: 0.02363716810941696, Accuracy: 99.43448638916016, Val Loss: 0.10813245922327042, Val Accuracy: 96.30000305175781\n",
            "Iteration 7000, Epoch 10, Loss: 0.02484522946178913, Accuracy: 99.35747528076172, Val Loss: 0.10147787630558014, Val Accuracy: 96.30000305175781\n",
            "Iteration 7500, Epoch 10, Loss: 0.019859720021486282, Accuracy: 99.52635955810547, Val Loss: 0.10960375517606735, Val Accuracy: 95.9000015258789\n"
          ]
        }
      ],
      "source": [
        "def model_init_fn():\n",
        "    return CustomConvNet()\n",
        "\n",
        "def optimizer_init_fn():\n",
        "    learning_rate = 1e-4\n",
        "    return tf.keras.optimizers.Adam(learning_rate)\n",
        "\n",
        "train_part34(model_init_fn, optimizer_init_fn, num_epochs=num_epochs, is_training=True)"
      ]
    },
    {
      "cell_type": "code",
      "execution_count": null,
      "metadata": {
        "colab": {
          "base_uri": "https://localhost:8080/"
        },
        "id": "lVzsyDdKJc6a",
        "outputId": "58b46dfd-69a6-444b-9494-bc434ccd8df7"
      },
      "outputs": [
        {
          "name": "stdout",
          "output_type": "stream",
          "text": [
            "Iteration 0, Epoch 1, Loss: 3.007843255996704, Accuracy: 9.375, Val Loss: 2.8182427883148193, Val Accuracy: 7.699999809265137\n",
            "Iteration 500, Epoch 1, Loss: 0.6074138879776001, Accuracy: 81.96419525146484, Val Loss: 0.434714674949646, Val Accuracy: 86.69999694824219\n",
            "Iteration 1000, Epoch 2, Loss: 0.29912322759628296, Accuracy: 91.40957641601562, Val Loss: 0.37025579810142517, Val Accuracy: 89.5\n",
            "Iteration 1500, Epoch 2, Loss: 0.28175467252731323, Accuracy: 91.85799407958984, Val Loss: 0.3431698679924011, Val Accuracy: 90.30000305175781\n",
            "Iteration 2000, Epoch 3, Loss: 0.23916569352149963, Accuracy: 93.24027252197266, Val Loss: 0.318463534116745, Val Accuracy: 91.0\n",
            "Iteration 2500, Epoch 4, Loss: 0.20852364599704742, Accuracy: 94.22721862792969, Val Loss: 0.3036445677280426, Val Accuracy: 91.0\n",
            "Iteration 3000, Epoch 4, Loss: 0.20409280061721802, Accuracy: 94.29898834228516, Val Loss: 0.2755380868911743, Val Accuracy: 92.0999984741211\n",
            "Iteration 3500, Epoch 5, Loss: 0.17953579127788544, Accuracy: 95.06578826904297, Val Loss: 0.2539128363132477, Val Accuracy: 92.5999984741211\n",
            "Iteration 4000, Epoch 6, Loss: 0.15634752810001373, Accuracy: 95.6140365600586, Val Loss: 0.2350451797246933, Val Accuracy: 93.0\n",
            "Iteration 4500, Epoch 6, Loss: 0.15634900331497192, Accuracy: 95.66645050048828, Val Loss: 0.21835540235042572, Val Accuracy: 94.0\n",
            "Iteration 5000, Epoch 7, Loss: 0.1380920708179474, Accuracy: 96.19984436035156, Val Loss: 0.20979321002960205, Val Accuracy: 94.0\n",
            "Iteration 5500, Epoch 8, Loss: 0.127701997756958, Accuracy: 96.54901123046875, Val Loss: 0.2046627253293991, Val Accuracy: 93.69999694824219\n",
            "Iteration 6000, Epoch 8, Loss: 0.123141810297966, Accuracy: 96.63047790527344, Val Loss: 0.1875745952129364, Val Accuracy: 95.0\n",
            "Iteration 6500, Epoch 9, Loss: 0.1115734726190567, Accuracy: 96.9168930053711, Val Loss: 0.17948490381240845, Val Accuracy: 94.5999984741211\n",
            "Iteration 7000, Epoch 10, Loss: 0.10144709050655365, Accuracy: 97.34228515625, Val Loss: 0.17411400377750397, Val Accuracy: 94.30000305175781\n",
            "Iteration 7500, Epoch 10, Loss: 0.10227210074663162, Accuracy: 97.258544921875, Val Loss: 0.16904281079769135, Val Accuracy: 95.30000305175781\n"
          ]
        }
      ],
      "source": [
        "def model_init_fn():\n",
        "    return CustomConvNet()\n",
        "\n",
        "def optimizer_init_fn():\n",
        "    learning_rate = 1e-3\n",
        "    return tf.keras.optimizers.SGD(learning_rate)\n",
        "\n",
        "train_part34(model_init_fn, optimizer_init_fn, num_epochs=num_epochs, is_training=True)"
      ]
    },
    {
      "cell_type": "code",
      "execution_count": null,
      "metadata": {
        "id": "wfUth_NaHqNv"
      },
      "outputs": [],
      "source": [
        "class CustomConvNet_Sig(tf.keras.Model):\n",
        "    def __init__(self):\n",
        "        super(CustomConvNet_Sig, self).__init__()\n",
        "        ############################################################################\n",
        "        # TODO: Construct a model that performs well on CIFAR-10                   #\n",
        "        ############################################################################\n",
        "        # *****START OF YOUR CODE (DO NOT DELETE/MODIFY THIS LINE)*****\n",
        "\n",
        "        channel_1, channel_2, num_classes = 28, 14, 10\n",
        "        dp_rate = 0.2\n",
        "        initializer = tf.initializers.VarianceScaling(scale=2.0)\n",
        "        self.conv1 = tf.keras.layers.Conv2D(channel_1, [3,3], [1,1], padding='same',\n",
        "                                  kernel_initializer=initializer)\n",
        "        self.conv2 = tf.keras.layers.Conv2D(channel_2, [3,3], [1,1], padding='same',\n",
        "                                  kernel_initializer=initializer)\n",
        "        self.fl = tf.keras.layers.Flatten()\n",
        "        self.fc = tf.keras.layers.Dense(num_classes,\n",
        "                                  activation='softmax',\n",
        "                                  kernel_initializer=initializer)\n",
        "\n",
        "        # *****END OF YOUR CODE (DO NOT DELETE/MODIFY THIS LINE)*****\n",
        "        ############################################################################\n",
        "        #                            END OF YOUR CODE                              #\n",
        "        ############################################################################\n",
        "\n",
        "    def call(self, input_tensor, training=False):\n",
        "        ############################################################################\n",
        "        # TODO: Construct a model that performs well on CIFAR-10                   #\n",
        "        ############################################################################\n",
        "        # *****START OF YOUR CODE (DO NOT DELETE/MODIFY THIS LINE)*****\n",
        "        x = input_tensor\n",
        "        x = self.conv1(x)\n",
        "        x = tf.keras.activations.sigmoid(x)\n",
        "\n",
        "        x = self.conv2(x)\n",
        "        x = tf.keras.activations.sigmoid(x)\n",
        "\n",
        "        x = self.fl(x)\n",
        "        x = self.fc(x)\n",
        "\n",
        "        # *****END OF YOUR CODE (DO NOT DELETE/MODIFY THIS LINE)*****\n",
        "        ############################################################################\n",
        "        #                            END OF YOUR CODE                              #\n",
        "        ############################################################################\n",
        "        return x"
      ]
    },
    {
      "cell_type": "code",
      "execution_count": null,
      "metadata": {
        "colab": {
          "base_uri": "https://localhost:8080/"
        },
        "id": "Dc2PrSs_MwMU",
        "outputId": "b25fb22c-a479-46ba-ed58-298cf2ef8efc"
      },
      "outputs": [
        {
          "name": "stdout",
          "output_type": "stream",
          "text": [
            "Iteration 0, Epoch 1, Loss: 2.3846654891967773, Accuracy: 10.9375, Val Loss: 5.6337571144104, Val Accuracy: 10.0\n",
            "Iteration 100, Epoch 1, Loss: 1.5007493495941162, Accuracy: 57.626853942871094, Val Loss: 0.6954238414764404, Val Accuracy: 76.80000305175781\n",
            "Iteration 200, Epoch 1, Loss: 1.0032708644866943, Accuracy: 71.21424102783203, Val Loss: 0.5902515053749084, Val Accuracy: 81.4000015258789\n",
            "Iteration 300, Epoch 1, Loss: 0.8101251125335693, Accuracy: 76.56768798828125, Val Loss: 0.41288357973098755, Val Accuracy: 87.9000015258789\n",
            "Iteration 400, Epoch 1, Loss: 0.692849338054657, Accuracy: 79.87063598632812, Val Loss: 0.41871002316474915, Val Accuracy: 87.5\n",
            "Iteration 500, Epoch 1, Loss: 0.6250584721565247, Accuracy: 81.79890441894531, Val Loss: 0.3948213458061218, Val Accuracy: 88.70000457763672\n",
            "Iteration 600, Epoch 1, Loss: 0.5728740692138672, Accuracy: 83.28047180175781, Val Loss: 0.39921531081199646, Val Accuracy: 88.5\n",
            "Iteration 700, Epoch 1, Loss: 0.5340216755867004, Accuracy: 84.36608123779297, Val Loss: 0.3538799583911896, Val Accuracy: 89.5\n",
            "Iteration 800, Epoch 2, Loss: 0.2715195119380951, Accuracy: 91.91963958740234, Val Loss: 0.3084620237350464, Val Accuracy: 91.0999984741211\n",
            "Iteration 900, Epoch 2, Loss: 0.2239566147327423, Accuracy: 93.36805725097656, Val Loss: 0.2826988101005554, Val Accuracy: 91.39999389648438\n",
            "Iteration 1000, Epoch 2, Loss: 0.23476529121398926, Accuracy: 93.15159606933594, Val Loss: 0.2565928101539612, Val Accuracy: 92.5999984741211\n",
            "Iteration 1100, Epoch 2, Loss: 0.21796788275241852, Accuracy: 93.69403076171875, Val Loss: 0.2586440145969391, Val Accuracy: 91.5999984741211\n",
            "Iteration 1200, Epoch 2, Loss: 0.205328106880188, Accuracy: 94.06608581542969, Val Loss: 0.2429487705230713, Val Accuracy: 92.19999694824219\n",
            "Iteration 1300, Epoch 2, Loss: 0.19791480898857117, Accuracy: 94.27570343017578, Val Loss: 0.23027661442756653, Val Accuracy: 92.79999542236328\n",
            "Iteration 1400, Epoch 2, Loss: 0.191250279545784, Accuracy: 94.48573303222656, Val Loss: 0.21183189749717712, Val Accuracy: 93.0\n",
            "Iteration 1500, Epoch 2, Loss: 0.18571023643016815, Accuracy: 94.62159729003906, Val Loss: 0.1981537789106369, Val Accuracy: 93.19999694824219\n",
            "Iteration 1600, Epoch 3, Loss: 0.12688039243221283, Accuracy: 96.3315200805664, Val Loss: 0.1656067818403244, Val Accuracy: 95.0\n",
            "Iteration 1700, Epoch 3, Loss: 0.12749004364013672, Accuracy: 96.25554656982422, Val Loss: 0.20561175048351288, Val Accuracy: 93.0\n",
            "Iteration 1800, Epoch 3, Loss: 0.12622830271720886, Accuracy: 96.28253173828125, Val Loss: 0.15689656138420105, Val Accuracy: 95.20000457763672\n",
            "Iteration 1900, Epoch 3, Loss: 0.1196322962641716, Accuracy: 96.50237274169922, Val Loss: 0.14339983463287354, Val Accuracy: 95.9000015258789\n",
            "Iteration 2000, Epoch 3, Loss: 0.11613884568214417, Accuracy: 96.658447265625, Val Loss: 0.15471236407756805, Val Accuracy: 94.70000457763672\n",
            "Iteration 2100, Epoch 3, Loss: 0.11380209028720856, Accuracy: 96.75142669677734, Val Loss: 0.1643909513950348, Val Accuracy: 94.9000015258789\n",
            "Iteration 2200, Epoch 3, Loss: 0.11241000145673752, Accuracy: 96.77457427978516, Val Loss: 0.13361623883247375, Val Accuracy: 95.5\n",
            "Iteration 2300, Epoch 4, Loss: 0.12601666152477264, Accuracy: 96.35417175292969, Val Loss: 0.1296122670173645, Val Accuracy: 96.0\n",
            "Iteration 2400, Epoch 4, Loss: 0.087642602622509, Accuracy: 97.46662139892578, Val Loss: 0.15896481275558472, Val Accuracy: 94.0999984741211\n",
            "Iteration 2500, Epoch 4, Loss: 0.08993801474571228, Accuracy: 97.29064178466797, Val Loss: 0.16217917203903198, Val Accuracy: 94.70000457763672\n",
            "Iteration 2600, Epoch 4, Loss: 0.08750643581151962, Accuracy: 97.42161560058594, Val Loss: 0.12478607892990112, Val Accuracy: 95.30000305175781\n",
            "Iteration 2700, Epoch 4, Loss: 0.08359212428331375, Accuracy: 97.55738067626953, Val Loss: 0.13492083549499512, Val Accuracy: 95.9000015258789\n",
            "Iteration 2800, Epoch 4, Loss: 0.0840872973203659, Accuracy: 97.56150817871094, Val Loss: 0.11630554497241974, Val Accuracy: 96.30000305175781\n",
            "Iteration 2900, Epoch 4, Loss: 0.08279689401388168, Accuracy: 97.59017181396484, Val Loss: 0.13782556354999542, Val Accuracy: 95.4000015258789\n",
            "Iteration 3000, Epoch 4, Loss: 0.08202899992465973, Accuracy: 97.62179565429688, Val Loss: 0.1211857944726944, Val Accuracy: 95.80000305175781\n",
            "Iteration 3100, Epoch 5, Loss: 0.0840585008263588, Accuracy: 97.63513946533203, Val Loss: 0.10654588043689728, Val Accuracy: 96.9000015258789\n",
            "Iteration 3200, Epoch 5, Loss: 0.07382296770811081, Accuracy: 97.75318908691406, Val Loss: 0.10029325634241104, Val Accuracy: 96.5999984741211\n",
            "Iteration 3300, Epoch 5, Loss: 0.0702754557132721, Accuracy: 97.8045883178711, Val Loss: 0.11126217246055603, Val Accuracy: 96.10000610351562\n",
            "Iteration 3400, Epoch 5, Loss: 0.06826946139335632, Accuracy: 97.8718490600586, Val Loss: 0.10900560021400452, Val Accuracy: 96.20000457763672\n",
            "Iteration 3500, Epoch 5, Loss: 0.06679482012987137, Accuracy: 97.96553039550781, Val Loss: 0.11489983648061752, Val Accuracy: 96.20000457763672\n",
            "Iteration 3600, Epoch 5, Loss: 0.06575457751750946, Accuracy: 97.98941040039062, Val Loss: 0.1273130178451538, Val Accuracy: 95.70000457763672\n",
            "Iteration 3700, Epoch 5, Loss: 0.06551452726125717, Accuracy: 98.00823974609375, Val Loss: 0.11883559077978134, Val Accuracy: 96.20000457763672\n",
            "Iteration 3800, Epoch 5, Loss: 0.06571445614099503, Accuracy: 98.00712585449219, Val Loss: 0.12910912930965424, Val Accuracy: 95.4000015258789\n",
            "Iteration 3900, Epoch 6, Loss: 0.06241816654801369, Accuracy: 98.15141296386719, Val Loss: 0.09910120069980621, Val Accuracy: 96.5999984741211\n",
            "Iteration 4000, Epoch 6, Loss: 0.05952933058142662, Accuracy: 98.14510345458984, Val Loss: 0.12954820692539215, Val Accuracy: 95.5\n",
            "Iteration 4100, Epoch 6, Loss: 0.05727396160364151, Accuracy: 98.24146270751953, Val Loss: 0.1029270738363266, Val Accuracy: 96.30000305175781\n",
            "Iteration 4200, Epoch 6, Loss: 0.05471780523657799, Accuracy: 98.32378387451172, Val Loss: 0.09501524269580841, Val Accuracy: 97.19999694824219\n",
            "Iteration 4300, Epoch 6, Loss: 0.055004194378852844, Accuracy: 98.38773345947266, Val Loss: 0.10562465339899063, Val Accuracy: 96.4000015258789\n",
            "Iteration 4400, Epoch 6, Loss: 0.0546475313603878, Accuracy: 98.3772964477539, Val Loss: 0.11435167491436005, Val Accuracy: 96.80000305175781\n",
            "Iteration 4500, Epoch 6, Loss: 0.05448123812675476, Accuracy: 98.36764526367188, Val Loss: 0.08811727911233902, Val Accuracy: 96.9000015258789\n",
            "Iteration 4600, Epoch 7, Loss: 0.06813766062259674, Accuracy: 98.125, Val Loss: 0.10182353854179382, Val Accuracy: 96.69999694824219\n",
            "Iteration 4700, Epoch 7, Loss: 0.05047009512782097, Accuracy: 98.51190185546875, Val Loss: 0.10399521142244339, Val Accuracy: 96.30000305175781\n",
            "Iteration 4800, Epoch 7, Loss: 0.04908360168337822, Accuracy: 98.53659057617188, Val Loss: 0.13551731407642365, Val Accuracy: 96.5\n",
            "Iteration 4900, Epoch 7, Loss: 0.04704294353723526, Accuracy: 98.6219253540039, Val Loss: 0.10306048393249512, Val Accuracy: 96.5\n",
            "Iteration 5000, Epoch 7, Loss: 0.04504498466849327, Accuracy: 98.70370483398438, Val Loss: 0.10607261210680008, Val Accuracy: 96.30000305175781\n",
            "Iteration 5100, Epoch 7, Loss: 0.0459485799074173, Accuracy: 98.69430541992188, Val Loss: 0.09641963988542557, Val Accuracy: 96.5999984741211\n",
            "Iteration 5200, Epoch 7, Loss: 0.045897264033555984, Accuracy: 98.67252349853516, Val Loss: 0.10089710354804993, Val Accuracy: 96.80000305175781\n",
            "Iteration 5300, Epoch 7, Loss: 0.0454210489988327, Accuracy: 98.69459533691406, Val Loss: 0.08974935114383698, Val Accuracy: 96.80000305175781\n",
            "Iteration 5400, Epoch 8, Loss: 0.05075358226895332, Accuracy: 98.55769348144531, Val Loss: 0.10484648495912552, Val Accuracy: 96.4000015258789\n",
            "Iteration 5500, Epoch 8, Loss: 0.04510825499892235, Accuracy: 98.6735610961914, Val Loss: 0.09296464174985886, Val Accuracy: 97.39999389648438\n",
            "Iteration 5600, Epoch 8, Loss: 0.03986338526010513, Accuracy: 98.84283447265625, Val Loss: 0.09540768712759018, Val Accuracy: 97.29999542236328\n",
            "Iteration 5700, Epoch 8, Loss: 0.03939834609627724, Accuracy: 98.8753662109375, Val Loss: 0.09674724191427231, Val Accuracy: 96.9000015258789\n",
            "Iteration 5800, Epoch 8, Loss: 0.03848428279161453, Accuracy: 98.9322280883789, Val Loss: 0.09995322674512863, Val Accuracy: 96.80000305175781\n",
            "Iteration 5900, Epoch 8, Loss: 0.037991590797901154, Accuracy: 98.93611145019531, Val Loss: 0.1216936782002449, Val Accuracy: 96.30000305175781\n",
            "Iteration 6000, Epoch 8, Loss: 0.038542333990335464, Accuracy: 98.906982421875, Val Loss: 0.11038926243782043, Val Accuracy: 96.20000457763672\n",
            "Iteration 6100, Epoch 8, Loss: 0.03875960782170296, Accuracy: 98.9174575805664, Val Loss: 0.11454195529222488, Val Accuracy: 95.80000305175781\n",
            "Iteration 6200, Epoch 9, Loss: 0.039470575749874115, Accuracy: 98.99400329589844, Val Loss: 0.09489002823829651, Val Accuracy: 96.4000015258789\n",
            "Iteration 6300, Epoch 9, Loss: 0.03618649020791054, Accuracy: 98.98843383789062, Val Loss: 0.09737877547740936, Val Accuracy: 97.29999542236328\n",
            "Iteration 6400, Epoch 9, Loss: 0.03324577212333679, Accuracy: 99.12431335449219, Val Loss: 0.10315564274787903, Val Accuracy: 96.80000305175781\n",
            "Iteration 6500, Epoch 9, Loss: 0.03204791247844696, Accuracy: 99.15382385253906, Val Loss: 0.09353318065404892, Val Accuracy: 97.0999984741211\n",
            "Iteration 6600, Epoch 9, Loss: 0.032427042722702026, Accuracy: 99.1378173828125, Val Loss: 0.10010244697332382, Val Accuracy: 96.69999694824219\n",
            "Iteration 6700, Epoch 9, Loss: 0.03223779425024986, Accuracy: 99.130126953125, Val Loss: 0.10786236822605133, Val Accuracy: 97.0\n",
            "Iteration 6800, Epoch 9, Loss: 0.03264244273304939, Accuracy: 99.12007904052734, Val Loss: 0.08577456325292587, Val Accuracy: 97.0999984741211\n",
            "Iteration 6900, Epoch 10, Loss: 0.042909957468509674, Accuracy: 98.4375, Val Loss: 0.11002475768327713, Val Accuracy: 96.5\n",
            "Iteration 7000, Epoch 10, Loss: 0.03237047418951988, Accuracy: 99.16764068603516, Val Loss: 0.09642337262630463, Val Accuracy: 97.0999984741211\n",
            "Iteration 7100, Epoch 10, Loss: 0.029605284333229065, Accuracy: 99.22252655029297, Val Loss: 0.11653944849967957, Val Accuracy: 97.0\n",
            "Iteration 7200, Epoch 10, Loss: 0.02803526073694229, Accuracy: 99.28746032714844, Val Loss: 0.10644263029098511, Val Accuracy: 96.69999694824219\n",
            "Iteration 7300, Epoch 10, Loss: 0.02650456316769123, Accuracy: 99.32048034667969, Val Loss: 0.10717547684907913, Val Accuracy: 97.0\n",
            "Iteration 7400, Epoch 10, Loss: 0.027200613170862198, Accuracy: 99.27576446533203, Val Loss: 0.09595924615859985, Val Accuracy: 96.5999984741211\n",
            "Iteration 7500, Epoch 10, Loss: 0.02736544795334339, Accuracy: 99.27924346923828, Val Loss: 0.09796738624572754, Val Accuracy: 97.0\n",
            "Iteration 7600, Epoch 10, Loss: 0.027295418083667755, Accuracy: 99.28394317626953, Val Loss: 0.08674563467502594, Val Accuracy: 97.0999984741211\n"
          ]
        }
      ],
      "source": [
        "print_every = 100\n",
        "num_epochs = 10\n",
        "\n",
        "def model_init_fn():\n",
        "    return CustomConvNet_Sig()\n",
        "\n",
        "def optimizer_init_fn():\n",
        "    learning_rate = 1e-3\n",
        "    return tf.keras.optimizers.Adam(learning_rate)\n",
        "\n",
        "train_part34(model_init_fn, optimizer_init_fn, num_epochs=num_epochs, is_training=True)"
      ]
    },
    {
      "cell_type": "code",
      "execution_count": null,
      "metadata": {
        "colab": {
          "base_uri": "https://localhost:8080/"
        },
        "id": "fbEGVsZFNYTc",
        "outputId": "05b0d3d1-f612-4184-f741-5530b81e7fe6"
      },
      "outputs": [
        {
          "name": "stdout",
          "output_type": "stream",
          "text": [
            "Iteration 0, Epoch 1, Loss: 2.3622288703918457, Accuracy: 7.8125, Val Loss: 2.383760452270508, Val Accuracy: 8.0\n",
            "Iteration 100, Epoch 1, Loss: 2.148244619369507, Accuracy: 29.238861083984375, Val Loss: 1.8981245756149292, Val Accuracy: 45.400001525878906\n",
            "Iteration 200, Epoch 1, Loss: 1.78458571434021, Accuracy: 49.5335807800293, Val Loss: 1.1607908010482788, Val Accuracy: 69.9000015258789\n",
            "Iteration 300, Epoch 1, Loss: 1.4752548933029175, Accuracy: 59.70722579956055, Val Loss: 0.7489509582519531, Val Accuracy: 78.79999542236328\n",
            "Iteration 400, Epoch 1, Loss: 1.254551887512207, Accuracy: 65.87437438964844, Val Loss: 0.62906813621521, Val Accuracy: 82.5999984741211\n",
            "Iteration 500, Epoch 1, Loss: 1.111317753791809, Accuracy: 69.71369934082031, Val Loss: 0.552923321723938, Val Accuracy: 84.0999984741211\n",
            "Iteration 600, Epoch 1, Loss: 1.0030983686447144, Accuracy: 72.53795623779297, Val Loss: 0.540177583694458, Val Accuracy: 83.5\n",
            "Iteration 700, Epoch 1, Loss: 0.9234025478363037, Accuracy: 74.60770416259766, Val Loss: 0.5097146034240723, Val Accuracy: 84.19999694824219\n",
            "Iteration 800, Epoch 2, Loss: 0.4086129665374756, Accuracy: 87.8125, Val Loss: 0.46842437982559204, Val Accuracy: 85.5\n",
            "Iteration 900, Epoch 2, Loss: 0.3732641637325287, Accuracy: 89.14352416992188, Val Loss: 0.46082377433776855, Val Accuracy: 86.29999542236328\n",
            "Iteration 1000, Epoch 2, Loss: 0.3940225839614868, Accuracy: 88.38430786132812, Val Loss: 0.45274457335472107, Val Accuracy: 87.0\n",
            "Iteration 1100, Epoch 2, Loss: 0.3824526071548462, Accuracy: 88.82463073730469, Val Loss: 0.4515700042247772, Val Accuracy: 85.69999694824219\n",
            "Iteration 1200, Epoch 2, Loss: 0.37568414211273193, Accuracy: 88.96910858154297, Val Loss: 0.4154580235481262, Val Accuracy: 87.19999694824219\n",
            "Iteration 1300, Epoch 2, Loss: 0.37507274746894836, Accuracy: 88.9456787109375, Val Loss: 0.42527055740356445, Val Accuracy: 87.9000015258789\n",
            "Iteration 1400, Epoch 2, Loss: 0.3718216121196747, Accuracy: 88.98622131347656, Val Loss: 0.4293537437915802, Val Accuracy: 86.79999542236328\n",
            "Iteration 1500, Epoch 2, Loss: 0.36999672651290894, Accuracy: 88.99447631835938, Val Loss: 0.4249099791049957, Val Accuracy: 87.19999694824219\n",
            "Iteration 1600, Epoch 3, Loss: 0.3158525824546814, Accuracy: 90.6702880859375, Val Loss: 0.39284008741378784, Val Accuracy: 89.0999984741211\n",
            "Iteration 1700, Epoch 3, Loss: 0.3258378803730011, Accuracy: 90.36612701416016, Val Loss: 0.45072704553604126, Val Accuracy: 86.69999694824219\n",
            "Iteration 1800, Epoch 3, Loss: 0.34003394842147827, Accuracy: 89.84085083007812, Val Loss: 0.38984501361846924, Val Accuracy: 89.20000457763672\n",
            "Iteration 1900, Epoch 3, Loss: 0.3293568789958954, Accuracy: 90.26507568359375, Val Loss: 0.37617114186286926, Val Accuracy: 89.20000457763672\n",
            "Iteration 2000, Epoch 3, Loss: 0.3281148076057434, Accuracy: 90.29850769042969, Val Loss: 0.3927447199821472, Val Accuracy: 88.70000457763672\n",
            "Iteration 2100, Epoch 3, Loss: 0.32703498005867004, Accuracy: 90.27625274658203, Val Loss: 0.40556585788726807, Val Accuracy: 88.4000015258789\n",
            "Iteration 2200, Epoch 3, Loss: 0.3295288681983948, Accuracy: 90.20226287841797, Val Loss: 0.38894370198249817, Val Accuracy: 88.5999984741211\n",
            "Iteration 2300, Epoch 4, Loss: 0.3083878755569458, Accuracy: 92.1875, Val Loss: 0.4057297110557556, Val Accuracy: 88.0999984741211\n",
            "Iteration 2400, Epoch 4, Loss: 0.28273090720176697, Accuracy: 91.62621307373047, Val Loss: 0.42006656527519226, Val Accuracy: 87.0\n",
            "Iteration 2500, Epoch 4, Loss: 0.3088945746421814, Accuracy: 90.88670349121094, Val Loss: 0.40304917097091675, Val Accuracy: 87.0\n",
            "Iteration 2600, Epoch 4, Loss: 0.30925872921943665, Accuracy: 90.877685546875, Val Loss: 0.3616510331630707, Val Accuracy: 90.20000457763672\n",
            "Iteration 2700, Epoch 4, Loss: 0.30298614501953125, Accuracy: 91.12515258789062, Val Loss: 0.37334927916526794, Val Accuracy: 89.0999984741211\n",
            "Iteration 2800, Epoch 4, Loss: 0.3063197731971741, Accuracy: 91.007080078125, Val Loss: 0.360190212726593, Val Accuracy: 90.0\n",
            "Iteration 2900, Epoch 4, Loss: 0.30478328466415405, Accuracy: 91.04218292236328, Val Loss: 0.39480021595954895, Val Accuracy: 88.5999984741211\n",
            "Iteration 3000, Epoch 4, Loss: 0.3047465682029724, Accuracy: 91.01840209960938, Val Loss: 0.373058944940567, Val Accuracy: 89.4000015258789\n",
            "Iteration 3100, Epoch 5, Loss: 0.2977692484855652, Accuracy: 90.96283721923828, Val Loss: 0.36259597539901733, Val Accuracy: 89.60000610351562\n",
            "Iteration 3200, Epoch 5, Loss: 0.27658820152282715, Accuracy: 91.94799041748047, Val Loss: 0.3797391951084137, Val Accuracy: 89.0999984741211\n",
            "Iteration 3300, Epoch 5, Loss: 0.2952064275741577, Accuracy: 91.3831787109375, Val Loss: 0.35340172052383423, Val Accuracy: 90.4000015258789\n",
            "Iteration 3400, Epoch 5, Loss: 0.2855868935585022, Accuracy: 91.77948760986328, Val Loss: 0.3687311112880707, Val Accuracy: 88.9000015258789\n",
            "Iteration 3500, Epoch 5, Loss: 0.2822653651237488, Accuracy: 91.86927795410156, Val Loss: 0.34604817628860474, Val Accuracy: 90.30000305175781\n",
            "Iteration 3600, Epoch 5, Loss: 0.2825273871421814, Accuracy: 91.8179702758789, Val Loss: 0.35762158036231995, Val Accuracy: 90.0\n",
            "Iteration 3700, Epoch 5, Loss: 0.2831053137779236, Accuracy: 91.75823974609375, Val Loss: 0.3612254559993744, Val Accuracy: 89.70000457763672\n",
            "Iteration 3800, Epoch 5, Loss: 0.2836446464061737, Accuracy: 91.69564056396484, Val Loss: 0.35489699244499207, Val Accuracy: 90.10000610351562\n",
            "Iteration 3900, Epoch 6, Loss: 0.249360129237175, Accuracy: 92.80369567871094, Val Loss: 0.331430584192276, Val Accuracy: 91.0\n",
            "Iteration 4000, Epoch 6, Loss: 0.25911763310432434, Accuracy: 92.58040618896484, Val Loss: 0.34534752368927, Val Accuracy: 90.20000457763672\n",
            "Iteration 4100, Epoch 6, Loss: 0.2708325684070587, Accuracy: 92.23362731933594, Val Loss: 0.3225153684616089, Val Accuracy: 91.0999984741211\n",
            "Iteration 4200, Epoch 6, Loss: 0.26328882575035095, Accuracy: 92.47389221191406, Val Loss: 0.3155267834663391, Val Accuracy: 91.0999984741211\n",
            "Iteration 4300, Epoch 6, Loss: 0.2616457939147949, Accuracy: 92.52587890625, Val Loss: 0.33169427514076233, Val Accuracy: 90.5\n",
            "Iteration 4400, Epoch 6, Loss: 0.2606452703475952, Accuracy: 92.49124145507812, Val Loss: 0.3412669897079468, Val Accuracy: 90.0\n",
            "Iteration 4500, Epoch 6, Loss: 0.2638891041278839, Accuracy: 92.39474487304688, Val Loss: 0.3240010738372803, Val Accuracy: 90.80000305175781\n",
            "Iteration 4600, Epoch 7, Loss: 0.2582906186580658, Accuracy: 92.8125, Val Loss: 0.3410260081291199, Val Accuracy: 90.69999694824219\n",
            "Iteration 4700, Epoch 7, Loss: 0.2238096296787262, Accuracy: 93.66071319580078, Val Loss: 0.33932462334632874, Val Accuracy: 90.5\n",
            "Iteration 4800, Epoch 7, Loss: 0.24779576063156128, Accuracy: 92.93445587158203, Val Loss: 0.3425348103046417, Val Accuracy: 89.9000015258789\n",
            "Iteration 4900, Epoch 7, Loss: 0.245916947722435, Accuracy: 92.95594024658203, Val Loss: 0.306521475315094, Val Accuracy: 91.5\n",
            "Iteration 5000, Epoch 7, Loss: 0.2411268651485443, Accuracy: 93.16358184814453, Val Loss: 0.3115997910499573, Val Accuracy: 90.9000015258789\n",
            "Iteration 5100, Epoch 7, Loss: 0.24385231733322144, Accuracy: 93.0538330078125, Val Loss: 0.3014453947544098, Val Accuracy: 91.5\n",
            "Iteration 5200, Epoch 7, Loss: 0.24298535287380219, Accuracy: 93.09658813476562, Val Loss: 0.33192312717437744, Val Accuracy: 90.5999984741211\n",
            "Iteration 5300, Epoch 7, Loss: 0.2429797649383545, Accuracy: 93.06737518310547, Val Loss: 0.31447476148605347, Val Accuracy: 90.4000015258789\n",
            "Iteration 5400, Epoch 8, Loss: 0.2307354062795639, Accuracy: 92.90865325927734, Val Loss: 0.30357757210731506, Val Accuracy: 91.0999984741211\n",
            "Iteration 5500, Epoch 8, Loss: 0.22181858122348785, Accuracy: 93.52517700195312, Val Loss: 0.3024567663669586, Val Accuracy: 91.19999694824219\n",
            "Iteration 5600, Epoch 8, Loss: 0.23296959698200226, Accuracy: 93.37734985351562, Val Loss: 0.2958260476589203, Val Accuracy: 91.5999984741211\n",
            "Iteration 5700, Epoch 8, Loss: 0.22581416368484497, Accuracy: 93.64859771728516, Val Loss: 0.2998299300670624, Val Accuracy: 91.5999984741211\n",
            "Iteration 5800, Epoch 8, Loss: 0.22224977612495422, Accuracy: 93.77135467529297, Val Loss: 0.28894469141960144, Val Accuracy: 91.79999542236328\n",
            "Iteration 5900, Epoch 8, Loss: 0.22232012450695038, Accuracy: 93.69782257080078, Val Loss: 0.3001400828361511, Val Accuracy: 91.5999984741211\n",
            "Iteration 6000, Epoch 8, Loss: 0.2228439450263977, Accuracy: 93.6595230102539, Val Loss: 0.2993473708629608, Val Accuracy: 91.0\n",
            "Iteration 6100, Epoch 8, Loss: 0.22395339608192444, Accuracy: 93.60199737548828, Val Loss: 0.29348063468933105, Val Accuracy: 91.19999694824219\n",
            "Iteration 6200, Epoch 9, Loss: 0.19509592652320862, Accuracy: 94.34931182861328, Val Loss: 0.2760442793369293, Val Accuracy: 92.29999542236328\n",
            "Iteration 6300, Epoch 9, Loss: 0.20288057625293732, Accuracy: 94.12933349609375, Val Loss: 0.2790764272212982, Val Accuracy: 91.5999984741211\n",
            "Iteration 6400, Epoch 9, Loss: 0.21095985174179077, Accuracy: 94.0934066772461, Val Loss: 0.26960065960884094, Val Accuracy: 92.19999694824219\n",
            "Iteration 6500, Epoch 9, Loss: 0.20531009137630463, Accuracy: 94.26105499267578, Val Loss: 0.26180416345596313, Val Accuracy: 92.19999694824219\n",
            "Iteration 6600, Epoch 9, Loss: 0.20428015291690826, Accuracy: 94.235595703125, Val Loss: 0.27888503670692444, Val Accuracy: 91.5999984741211\n",
            "Iteration 6700, Epoch 9, Loss: 0.20328254997730255, Accuracy: 94.23265075683594, Val Loss: 0.2836184799671173, Val Accuracy: 91.5\n",
            "Iteration 6800, Epoch 9, Loss: 0.2062024623155594, Accuracy: 94.11914825439453, Val Loss: 0.26080405712127686, Val Accuracy: 92.29999542236328\n",
            "Iteration 6900, Epoch 10, Loss: 0.18554551899433136, Accuracy: 94.86607360839844, Val Loss: 0.27869707345962524, Val Accuracy: 91.5\n",
            "Iteration 7000, Epoch 10, Loss: 0.17436657845973969, Accuracy: 95.078857421875, Val Loss: 0.2789680063724518, Val Accuracy: 92.19999694824219\n",
            "Iteration 7100, Epoch 10, Loss: 0.19293615221977234, Accuracy: 94.50483703613281, Val Loss: 0.28058525919914246, Val Accuracy: 91.69999694824219\n",
            "Iteration 7200, Epoch 10, Loss: 0.19008071720600128, Accuracy: 94.62540435791016, Val Loss: 0.24887429177761078, Val Accuracy: 92.5\n",
            "Iteration 7300, Epoch 10, Loss: 0.18622183799743652, Accuracy: 94.77119445800781, Val Loss: 0.2573762536048889, Val Accuracy: 92.0999984741211\n",
            "Iteration 7400, Epoch 10, Loss: 0.18886986374855042, Accuracy: 94.64682006835938, Val Loss: 0.24724648892879486, Val Accuracy: 92.5999984741211\n",
            "Iteration 7500, Epoch 10, Loss: 0.18776963651180267, Accuracy: 94.692138671875, Val Loss: 0.27113041281700134, Val Accuracy: 91.5999984741211\n",
            "Iteration 7600, Epoch 10, Loss: 0.18789465725421906, Accuracy: 94.63622283935547, Val Loss: 0.2558453679084778, Val Accuracy: 91.9000015258789\n"
          ]
        }
      ],
      "source": [
        "def model_init_fn():\n",
        "    return CustomConvNet_Sig()\n",
        "\n",
        "def optimizer_init_fn():\n",
        "    learning_rate = 1e-4\n",
        "    return tf.keras.optimizers.Adam(learning_rate)\n",
        "\n",
        "train_part34(model_init_fn, optimizer_init_fn, num_epochs=num_epochs, is_training=True)"
      ]
    },
    {
      "cell_type": "code",
      "execution_count": null,
      "metadata": {
        "colab": {
          "base_uri": "https://localhost:8080/"
        },
        "id": "OLIz4ky3NYHz",
        "outputId": "3d34681e-3159-410e-ec20-f8427947e124"
      },
      "outputs": [
        {
          "name": "stdout",
          "output_type": "stream",
          "text": [
            "Iteration 0, Epoch 1, Loss: 2.726321220397949, Accuracy: 10.9375, Val Loss: 2.5593156814575195, Val Accuracy: 9.0\n",
            "Iteration 100, Epoch 1, Loss: 2.3039658069610596, Accuracy: 13.211633682250977, Val Loss: 2.258090019226074, Val Accuracy: 19.0\n",
            "Iteration 200, Epoch 1, Loss: 2.2654407024383545, Accuracy: 18.86660385131836, Val Loss: 2.2002363204956055, Val Accuracy: 27.700000762939453\n",
            "Iteration 300, Epoch 1, Loss: 2.229323625564575, Accuracy: 23.525747299194336, Val Loss: 2.1245081424713135, Val Accuracy: 43.900001525878906\n",
            "Iteration 400, Epoch 1, Loss: 2.1883974075317383, Accuracy: 29.16926383972168, Val Loss: 2.052469253540039, Val Accuracy: 46.0\n",
            "Iteration 500, Epoch 1, Loss: 2.1454482078552246, Accuracy: 34.321983337402344, Val Loss: 1.9531409740447998, Val Accuracy: 54.20000076293945\n",
            "Iteration 600, Epoch 1, Loss: 2.099091053009033, Accuracy: 39.07550048828125, Val Loss: 1.8411394357681274, Val Accuracy: 59.500003814697266\n",
            "Iteration 700, Epoch 1, Loss: 2.0475950241088867, Accuracy: 43.061248779296875, Val Loss: 1.7233723402023315, Val Accuracy: 62.400001525878906\n",
            "Iteration 800, Epoch 2, Loss: 1.5527852773666382, Accuracy: 73.125, Val Loss: 1.5983771085739136, Val Accuracy: 62.30000305175781\n",
            "Iteration 900, Epoch 2, Loss: 1.4802038669586182, Accuracy: 73.92361450195312, Val Loss: 1.474132776260376, Val Accuracy: 67.4000015258789\n",
            "Iteration 1000, Epoch 2, Loss: 1.4216173887252808, Accuracy: 74.52792358398438, Val Loss: 1.3479877710342407, Val Accuracy: 71.4000015258789\n",
            "Iteration 1100, Epoch 2, Loss: 1.3608492612838745, Accuracy: 75.49440002441406, Val Loss: 1.2461106777191162, Val Accuracy: 74.80000305175781\n",
            "Iteration 1200, Epoch 2, Loss: 1.3031011819839478, Accuracy: 76.35775756835938, Val Loss: 1.1455999612808228, Val Accuracy: 75.9000015258789\n",
            "Iteration 1300, Epoch 2, Loss: 1.25535249710083, Accuracy: 76.88960266113281, Val Loss: 1.0672783851623535, Val Accuracy: 76.0\n",
            "Iteration 1400, Epoch 2, Loss: 1.207374930381775, Accuracy: 77.70915985107422, Val Loss: 0.9987092018127441, Val Accuracy: 76.20000457763672\n",
            "Iteration 1500, Epoch 2, Loss: 1.1647660732269287, Accuracy: 78.30569458007812, Val Loss: 0.9382630586624146, Val Accuracy: 79.5\n",
            "Iteration 1600, Epoch 3, Loss: 0.8058589696884155, Accuracy: 83.06159210205078, Val Loss: 0.8914475440979004, Val Accuracy: 78.69999694824219\n",
            "Iteration 1700, Epoch 3, Loss: 0.7858332991600037, Accuracy: 83.4874267578125, Val Loss: 0.8496329188346863, Val Accuracy: 79.5999984741211\n",
            "Iteration 1800, Epoch 3, Loss: 0.7799692749977112, Accuracy: 83.10873413085938, Val Loss: 0.8127655982971191, Val Accuracy: 78.5999984741211\n",
            "Iteration 1900, Epoch 3, Loss: 0.7571446895599365, Accuracy: 83.53658294677734, Val Loss: 0.7840389609336853, Val Accuracy: 80.80000305175781\n",
            "Iteration 2000, Epoch 3, Loss: 0.7404510974884033, Accuracy: 83.67536926269531, Val Loss: 0.758773922920227, Val Accuracy: 79.69999694824219\n",
            "Iteration 2100, Epoch 3, Loss: 0.7298184633255005, Accuracy: 83.71595001220703, Val Loss: 0.7349400520324707, Val Accuracy: 80.19999694824219\n",
            "Iteration 2200, Epoch 3, Loss: 0.7174015045166016, Accuracy: 83.86351013183594, Val Loss: 0.7063326835632324, Val Accuracy: 81.80000305175781\n",
            "Iteration 2300, Epoch 4, Loss: 0.6126255989074707, Accuracy: 84.89582824707031, Val Loss: 0.6936761736869812, Val Accuracy: 81.0\n",
            "Iteration 2400, Epoch 4, Loss: 0.5677216053009033, Accuracy: 86.62014770507812, Val Loss: 0.6690055727958679, Val Accuracy: 81.69999694824219\n",
            "Iteration 2500, Epoch 4, Loss: 0.5760237574577332, Accuracy: 86.214599609375, Val Loss: 0.6562439203262329, Val Accuracy: 82.0999984741211\n",
            "Iteration 2600, Epoch 4, Loss: 0.5797715187072754, Accuracy: 85.79310607910156, Val Loss: 0.6394640803337097, Val Accuracy: 82.0\n",
            "Iteration 2700, Epoch 4, Loss: 0.5692154765129089, Accuracy: 85.94525146484375, Val Loss: 0.6360630393028259, Val Accuracy: 83.20000457763672\n",
            "Iteration 2800, Epoch 4, Loss: 0.5685954689979553, Accuracy: 85.86294555664062, Val Loss: 0.6175553202629089, Val Accuracy: 83.60000610351562\n",
            "Iteration 2900, Epoch 4, Loss: 0.5619082450866699, Accuracy: 86.01264190673828, Val Loss: 0.6103166937828064, Val Accuracy: 83.20000457763672\n",
            "Iteration 3000, Epoch 4, Loss: 0.5567321181297302, Accuracy: 86.05307006835938, Val Loss: 0.5956048369407654, Val Accuracy: 84.30000305175781\n",
            "Iteration 3100, Epoch 5, Loss: 0.5010441541671753, Accuracy: 86.8665542602539, Val Loss: 0.596790075302124, Val Accuracy: 82.80000305175781\n",
            "Iteration 3200, Epoch 5, Loss: 0.49158215522766113, Accuracy: 87.51140594482422, Val Loss: 0.5798572301864624, Val Accuracy: 84.4000015258789\n",
            "Iteration 3300, Epoch 5, Loss: 0.4994748830795288, Accuracy: 87.09783935546875, Val Loss: 0.5703818798065186, Val Accuracy: 83.5\n",
            "Iteration 3400, Epoch 5, Loss: 0.49320363998413086, Accuracy: 87.21253967285156, Val Loss: 0.5697427988052368, Val Accuracy: 83.9000015258789\n",
            "Iteration 3500, Epoch 5, Loss: 0.4890516996383667, Accuracy: 87.33552551269531, Val Loss: 0.5574437975883484, Val Accuracy: 84.0999984741211\n",
            "Iteration 3600, Epoch 5, Loss: 0.49039214849472046, Accuracy: 87.17411804199219, Val Loss: 0.5491639971733093, Val Accuracy: 84.79999542236328\n",
            "Iteration 3700, Epoch 5, Loss: 0.48684993386268616, Accuracy: 87.21055603027344, Val Loss: 0.542661190032959, Val Accuracy: 85.29999542236328\n",
            "Iteration 3800, Epoch 5, Loss: 0.484345406293869, Accuracy: 87.20954895019531, Val Loss: 0.5390713214874268, Val Accuracy: 85.19999694824219\n",
            "Iteration 3900, Epoch 6, Loss: 0.4345240592956543, Accuracy: 88.5123291015625, Val Loss: 0.5339956283569336, Val Accuracy: 84.89999389648438\n",
            "Iteration 4000, Epoch 6, Loss: 0.43936482071876526, Accuracy: 88.23098754882812, Val Loss: 0.5362871289253235, Val Accuracy: 85.29999542236328\n",
            "Iteration 4100, Epoch 6, Loss: 0.45416101813316345, Accuracy: 87.65567779541016, Val Loss: 0.5248880386352539, Val Accuracy: 84.69999694824219\n",
            "Iteration 4200, Epoch 6, Loss: 0.44645142555236816, Accuracy: 87.94642639160156, Val Loss: 0.5208507180213928, Val Accuracy: 85.39999389648438\n",
            "Iteration 4300, Epoch 6, Loss: 0.4458597004413605, Accuracy: 87.96443939208984, Val Loss: 0.5224850177764893, Val Accuracy: 84.0\n",
            "Iteration 4400, Epoch 6, Loss: 0.4466060698032379, Accuracy: 87.84752655029297, Val Loss: 0.5234060883522034, Val Accuracy: 84.30000305175781\n",
            "Iteration 4500, Epoch 6, Loss: 0.44680216908454895, Accuracy: 87.81436157226562, Val Loss: 0.5065274834632874, Val Accuracy: 84.89999389648438\n",
            "Iteration 4600, Epoch 7, Loss: 0.4297456741333008, Accuracy: 88.125, Val Loss: 0.5116177201271057, Val Accuracy: 84.79999542236328\n",
            "Iteration 4700, Epoch 7, Loss: 0.3952886164188385, Accuracy: 89.27083587646484, Val Loss: 0.5022765398025513, Val Accuracy: 85.5\n",
            "Iteration 4800, Epoch 7, Loss: 0.41625621914863586, Accuracy: 88.681396484375, Val Loss: 0.49950793385505676, Val Accuracy: 84.89999389648438\n",
            "Iteration 4900, Epoch 7, Loss: 0.42208632826805115, Accuracy: 88.34016418457031, Val Loss: 0.4982282221317291, Val Accuracy: 85.39999389648438\n",
            "Iteration 5000, Epoch 7, Loss: 0.41782131791114807, Accuracy: 88.4297866821289, Val Loss: 0.49435389041900635, Val Accuracy: 85.69999694824219\n",
            "Iteration 5100, Epoch 7, Loss: 0.42283689975738525, Accuracy: 88.24566650390625, Val Loss: 0.489410400390625, Val Accuracy: 85.9000015258789\n",
            "Iteration 5200, Epoch 7, Loss: 0.41973376274108887, Accuracy: 88.3083724975586, Val Loss: 0.49198243021965027, Val Accuracy: 85.9000015258789\n",
            "Iteration 5300, Epoch 7, Loss: 0.41895371675491333, Accuracy: 88.30895233154297, Val Loss: 0.4855760931968689, Val Accuracy: 86.29999542236328\n",
            "Iteration 5400, Epoch 8, Loss: 0.40291398763656616, Accuracy: 88.661865234375, Val Loss: 0.49598053097724915, Val Accuracy: 84.69999694824219\n",
            "Iteration 5500, Epoch 8, Loss: 0.39456337690353394, Accuracy: 89.07373809814453, Val Loss: 0.48671966791152954, Val Accuracy: 86.0999984741211\n",
            "Iteration 5600, Epoch 8, Loss: 0.4037949740886688, Accuracy: 88.68331146240234, Val Loss: 0.4764586091041565, Val Accuracy: 86.4000015258789\n",
            "Iteration 5700, Epoch 8, Loss: 0.39961692690849304, Accuracy: 88.86431121826172, Val Loss: 0.4783596098423004, Val Accuracy: 85.9000015258789\n",
            "Iteration 5800, Epoch 8, Loss: 0.39739733934402466, Accuracy: 88.8631820678711, Val Loss: 0.4718194007873535, Val Accuracy: 86.29999542236328\n",
            "Iteration 5900, Epoch 8, Loss: 0.4012126922607422, Accuracy: 88.717529296875, Val Loss: 0.4714697599411011, Val Accuracy: 86.0999984741211\n",
            "Iteration 6000, Epoch 8, Loss: 0.3992413878440857, Accuracy: 88.73973083496094, Val Loss: 0.46929726004600525, Val Accuracy: 86.29999542236328\n",
            "Iteration 6100, Epoch 8, Loss: 0.3992975652217865, Accuracy: 88.67134094238281, Val Loss: 0.4674132764339447, Val Accuracy: 86.4000015258789\n",
            "Iteration 6200, Epoch 9, Loss: 0.3648037314414978, Accuracy: 89.87586212158203, Val Loss: 0.46581000089645386, Val Accuracy: 86.79999542236328\n",
            "Iteration 6300, Epoch 9, Loss: 0.37287479639053345, Accuracy: 89.56828308105469, Val Loss: 0.47077232599258423, Val Accuracy: 85.9000015258789\n",
            "Iteration 6400, Epoch 9, Loss: 0.3892194330692291, Accuracy: 88.88507843017578, Val Loss: 0.4617826044559479, Val Accuracy: 86.5999984741211\n",
            "Iteration 6500, Epoch 9, Loss: 0.38318926095962524, Accuracy: 89.13790130615234, Val Loss: 0.4595593214035034, Val Accuracy: 87.0999984741211\n",
            "Iteration 6600, Epoch 9, Loss: 0.3845423460006714, Accuracy: 89.07571411132812, Val Loss: 0.4663020372390747, Val Accuracy: 86.5999984741211\n",
            "Iteration 6700, Epoch 9, Loss: 0.3852265775203705, Accuracy: 89.00796508789062, Val Loss: 0.46713536977767944, Val Accuracy: 86.0\n",
            "Iteration 6800, Epoch 9, Loss: 0.38706329464912415, Accuracy: 88.9417724609375, Val Loss: 0.4573588967323303, Val Accuracy: 86.79999542236328\n",
            "Iteration 6900, Epoch 10, Loss: 0.3507351279258728, Accuracy: 90.84821319580078, Val Loss: 0.4586004614830017, Val Accuracy: 87.0\n",
            "Iteration 7000, Epoch 10, Loss: 0.34677428007125854, Accuracy: 90.09929656982422, Val Loss: 0.4550893008708954, Val Accuracy: 86.5\n",
            "Iteration 7100, Epoch 10, Loss: 0.37029218673706055, Accuracy: 89.37953186035156, Val Loss: 0.45110663771629333, Val Accuracy: 87.0\n",
            "Iteration 7200, Epoch 10, Loss: 0.3750861883163452, Accuracy: 89.16429138183594, Val Loss: 0.4497467577457428, Val Accuracy: 87.0999984741211\n",
            "Iteration 7300, Epoch 10, Loss: 0.37128153443336487, Accuracy: 89.30436706542969, Val Loss: 0.4543953537940979, Val Accuracy: 86.5\n",
            "Iteration 7400, Epoch 10, Loss: 0.3779725134372711, Accuracy: 89.0994873046875, Val Loss: 0.45516037940979004, Val Accuracy: 86.69999694824219\n",
            "Iteration 7500, Epoch 10, Loss: 0.3745104968547821, Accuracy: 89.1860580444336, Val Loss: 0.450941801071167, Val Accuracy: 86.79999542236328\n",
            "Iteration 7600, Epoch 10, Loss: 0.37457871437072754, Accuracy: 89.16637420654297, Val Loss: 0.4481586813926697, Val Accuracy: 86.9000015258789\n"
          ]
        }
      ],
      "source": [
        "def model_init_fn():\n",
        "    return CustomConvNet_Sig()\n",
        "\n",
        "def optimizer_init_fn():\n",
        "    learning_rate = 1e-3\n",
        "    return tf.keras.optimizers.SGD(learning_rate)\n",
        "\n",
        "train_part34(model_init_fn, optimizer_init_fn, num_epochs=num_epochs, is_training=True)"
      ]
    },
    {
      "cell_type": "markdown",
      "metadata": {
        "id": "bIsG5imghe52"
      },
      "source": [
        "Опишите все эксперименты, результаты. Сделайте выводы."
      ]
    },
    {
      "cell_type": "markdown",
      "metadata": {
        "id": "U9ZcV85He0Ru"
      },
      "source": [
        "* Были проведены эксперименты на 3х вариантах 3-х слойной сети. 1я сеть использовала Dropout и BatchNormalization слои. 3я использовала вместо ReLU сигмоиду.\n",
        "* Худшие результаты были получены на 3й сети при использовании оптимизатора SGD. \n",
        "* При меньшей скорости обучения в результате сетки обучались бы дольше до тех же результатов. \n",
        "* Оптимизатор Adam гораздо лучшие результаты, чем SGD при использовании сигмоиды.\n",
        "* Dropout и BatchNormalization слои улучшили результаты"
      ]
    }
  ],
  "metadata": {
    "accelerator": "GPU",
    "colab": {
      "gpuType": "T4",
      "provenance": []
    },
    "kernelspec": {
      "display_name": "Python 3",
      "name": "python3"
    },
    "language_info": {
      "codemirror_mode": {
        "name": "ipython",
        "version": 3
      },
      "file_extension": ".py",
      "mimetype": "text/x-python",
      "name": "python",
      "nbconvert_exporter": "python",
      "pygments_lexer": "ipython3",
      "version": "3.7.4"
    }
  },
  "nbformat": 4,
  "nbformat_minor": 0
}
